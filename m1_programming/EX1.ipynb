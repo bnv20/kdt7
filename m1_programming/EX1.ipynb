{
 "cells": [
  {
   "cell_type": "markdown",
   "id": "e3534275",
   "metadata": {},
   "source": [
    "#### Q1. 남녀 파트너 정해주기 프로그램(zip) \n",
    "같은 수의 남녀 모임에서 파트너를 랜덤하게 정해주는 프로그램을 만들어 보세요\n",
    "\n",
    "male = ['철수','갑돌','로미오','이몽룡','온돌']\n",
    "\n",
    "female = ['미미','갑순','줄리엣','성춘향','평강']\n",
    "\n"
   ]
  },
  {
   "cell_type": "markdown",
   "id": "da7dc010",
   "metadata": {},
   "source": [
    "#### Q2. 사용자가 입력한 횟수만큼 로또 변호를 출력하는 프로그램을 작성하세요. (중복 금지)"
   ]
  },
  {
   "cell_type": "markdown",
   "id": "207d08b9",
   "metadata": {},
   "source": [
    "[도전과제] 발표자를 원하는 수만큼 랜덤하게 출력하는 프로그램을 작성하세요."
   ]
  },
  {
   "cell_type": "code",
   "execution_count": 1,
   "id": "17591943",
   "metadata": {},
   "outputs": [
    {
     "name": "stdout",
     "output_type": "stream",
     "text": [
      "=============== CAKD7 발표자 랜덤 뽑기 입니다.===============\n",
      "\n",
      " 발표 인원을 입력해주세요 >  \n",
      "3\n",
      " \n",
      "1번 문제 발표자는 김덕현 입니다.\n",
      "2번 문제 발표자는 진청아 입니다.\n",
      "3번 문제 발표자는 이상윤 입니다.\n"
     ]
    }
   ],
   "source": [
    "import random \n",
    "import numpy as np\n",
    "\n",
    "\n",
    "list = ['박영권','김현지','김덕현','변서연','한지웅','양주희','이호원','정지은','이정현A',\n",
    "         '이정현B','이명진','이상윤','조승현','강유한','김영선','최애림','김민섭','박혜린',\n",
    "         '윤정준','김진형','진청아','신창훈','김병석','박세희']\n",
    "\n",
    "\n",
    "\n",
    "print(\"=============== CAKD7 발표자 랜덤 뽑기 입니다.===============\"'\\n')\n",
    "                        \n",
    "get_ran_num = int(input(\" 발표 인원을 입력해주세요 >  \"'\\n')) \n",
    "\n",
    "\n",
    "lucky_guy = random.sample(list,get_ran_num)\n",
    "\n",
    "print(\" \")\n",
    "for i in range(get_ran_num):\n",
    "    print(f'{i+1}번 문제 발표자는 {lucky_guy[i]} 입니다.')\n"
   ]
  },
  {
   "cell_type": "markdown",
   "id": "20c8daf5",
   "metadata": {},
   "source": [
    "#### Q3. 입력받은 문자열의 각 문자를 그 다음 문자로 변경하여 출력하세요. abc -> bca"
   ]
  },
  {
   "cell_type": "markdown",
   "id": "b858f22e",
   "metadata": {},
   "source": [
    "#### Q4. url에서 호스트 도메인을 추출하여 출력하세요."
   ]
  },
  {
   "cell_type": "code",
   "execution_count": null,
   "id": "29be2b39",
   "metadata": {},
   "outputs": [],
   "source": [
    "url = 'http://news.naver.com/main/read.nhn?mode=LSD&mid=shm&sid1=105&oid=028&aid=0002334601'"
   ]
  },
  {
   "cell_type": "markdown",
   "id": "093ee8c3",
   "metadata": {},
   "source": [
    "#### Q5. url에서 쿼리문을 추출하여 출력하세요."
   ]
  },
  {
   "cell_type": "code",
   "execution_count": null,
   "id": "11eb6be9",
   "metadata": {},
   "outputs": [],
   "source": [
    "# url에서 '?'뒤에 표시되는 문자열을 쿼리 문자열이라고 하며 변수=값 사이 &로 구분되어 나열된다.\n",
    "url = 'http://news.naver.com/main/read.nhn?mode=LSD&mid=shm&sid1=105&oid=028&aid=0002334601'\n"
   ]
  },
  {
   "cell_type": "markdown",
   "id": "811a293b",
   "metadata": {},
   "source": [
    "#### Q6. 텍스트 파일(mydata.txt)을 읽고  파일의 내용에서 나타나는 문자들에 대해 자주 나타나는 문자들을 아래와 같이 순서대로 출력하세요.\n",
    "- \\[ \\] -> [177]회 나타남\n",
    "- [e] -> [97]회 나타남\n",
    "- [t] -> [85]회 나타남\n"
   ]
  },
  {
   "cell_type": "markdown",
   "id": "72ad73b1",
   "metadata": {},
   "source": [
    "#### Q7. 두개의 수를 입력한 후 두개의 수에 대한 사칙연산을 수행하세요.(0을 입력한 경우 다시 입력하도록 조치)"
   ]
  },
  {
   "cell_type": "code",
   "execution_count": null,
   "id": "76f2335a",
   "metadata": {},
   "outputs": [],
   "source": [
    "# Cal4 클래스를 만들어서 작성"
   ]
  },
  {
   "cell_type": "markdown",
   "id": "29797b11",
   "metadata": {},
   "source": [
    "#### Q8. Order 클래스를 상속받아 extraOrder 클래스에서 메소드 오버라이딩하여 출력가격에 원이 추가되도록 출력하세요."
   ]
  },
  {
   "cell_type": "code",
   "execution_count": 4,
   "id": "367fb713",
   "metadata": {},
   "outputs": [
    {
     "name": "stdout",
     "output_type": "stream",
     "text": [
      "1000\n"
     ]
    }
   ],
   "source": [
    "class Order: \n",
    "    def __init__(self, name): \n",
    "        self.customer = 0 \n",
    "        self.name = name \n",
    "    def order(self, price): \n",
    "        self.customer += price \n",
    "        return self.customer\n",
    "    \n",
    "order = Order('kevin')\n",
    "print(order.order(1000))"
   ]
  },
  {
   "cell_type": "markdown",
   "id": "6c2745b4",
   "metadata": {},
   "source": [
    "#### Q9. 업무미팅이 2시임을 알려주는 자동 이메일을 클래스 AutoEmail을 작성하여 아래와 같이 출력하세요.\n",
    "안녕하세요. Kevin님, 업무미팅은 2시입니다."
   ]
  },
  {
   "cell_type": "markdown",
   "id": "2da93824",
   "metadata": {},
   "source": [
    "#### Q10. 정규표현식을 사용하여 test에서 전화번호만 출력하세요.\n",
    "text = \"문의사항이 있으면 032-232-3245으로 연락주시기 바랍니다.\""
   ]
  },
  {
   "cell_type": "markdown",
   "id": "226c6e1f",
   "metadata": {},
   "source": [
    "#### Q11. 정규표현식을 사용하여 text에서 에러가 들어간 부분만 포함하는 리스트를 출력하세요.\n",
    "text = \"에러 1122, 레퍼런스 오륲, 에러 1033, 아규먼트 오류, 에러 xxx\""
   ]
  },
  {
   "cell_type": "markdown",
   "id": "060225a0",
   "metadata": {},
   "source": [
    "#### Q12. 정규표현식을 사용하여 text에서 지역코드만 출력하세요.\n",
    "text = \"문의사항이 있으면 032-232-3245으로 연락주시기 바랍니다.\""
   ]
  },
  {
   "cell_type": "markdown",
   "id": "07e88f81",
   "metadata": {},
   "source": [
    "#### Q13. 정규표현식을 사용하여 text에서 지역코드 제외한 번호만 출력하세요.\n",
    "text = \"문의사항이 있으면 032-232-3245으로 연락주시기 바랍니다.\""
   ]
  },
  {
   "cell_type": "markdown",
   "id": "fd01bae7",
   "metadata": {},
   "source": [
    "#### Q14. 'abcdefghij' 에 대하여 중첩을 적용한 서브그룹 5개로 컴파일하여 group()함수를 이용하여 'abcdefghi'와 e'를 출력하세요\n"
   ]
  },
  {
   "cell_type": "markdown",
   "id": "397b0ad8",
   "metadata": {},
   "source": [
    "#### Q15. 위문제에서 모든 서브 그룹에 대한 문자열을 포함하는 튜플을 출력하세요."
   ]
  },
  {
   "cell_type": "markdown",
   "id": "a2104908",
   "metadata": {},
   "source": [
    "#### Q16. 이름으로 그룹을 참조하여 'Lots of punctuation 에서 Lots를 출력하세요.\n"
   ]
  },
  {
   "cell_type": "markdown",
   "id": "0c3e39d2",
   "metadata": {},
   "source": [
    "#### Q17. 'Paris is very very beautiful.'에서 'very very'를 출력하세요.\n"
   ]
  },
  {
   "cell_type": "markdown",
   "id": "e611b623",
   "metadata": {},
   "source": [
    "#### Q18. 정규표현식을 작성하여 아래와 같이 출력하세요.\n",
    "['1 apple', '5 oranges', '3 boys', '4 girls', '10 army', '11 mr']"
   ]
  },
  {
   "cell_type": "code",
   "execution_count": null,
   "id": "3f960016",
   "metadata": {},
   "outputs": [],
   "source": [
    "# Q\n",
    "import re\n",
    "li = '1 apple, 5 oranges, 3 boys, 4 girls; 10 army| 11 mr'\n",
    "regex = re.compile(      )\n",
    "list = regex.findall(li)\n",
    "print(list)\n"
   ]
  },
  {
   "cell_type": "code",
   "execution_count": null,
   "id": "7252d485",
   "metadata": {},
   "outputs": [],
   "source": [
    "text = 'Hello my friend! Life is short you need Python!'"
   ]
  },
  {
   "cell_type": "markdown",
   "id": "26eaeb9b",
   "metadata": {},
   "source": [
    "#### Q19. text에서 'H,h'만 출력하세요."
   ]
  },
  {
   "cell_type": "markdown",
   "id": "240ff028",
   "metadata": {},
   "source": [
    "#### Q20. text에서 'H,h'가 아닌 것 모두를 출력하세요."
   ]
  },
  {
   "cell_type": "markdown",
   "id": "766feca4",
   "metadata": {},
   "source": [
    "#### Q21. 'we are going home'에서 home만 출력하세요.\n"
   ]
  },
  {
   "cell_type": "markdown",
   "id": "85fd115e",
   "metadata": {},
   "source": [
    "#### Q22. '199305, 1923A, a93247'에서 '199305'만 출력하세요.\n"
   ]
  },
  {
   "cell_type": "markdown",
   "id": "b04e38d5",
   "metadata": {},
   "source": [
    "#### Q23. '12345abc'에서 'abc'만 출력하세요.\n"
   ]
  },
  {
   "cell_type": "markdown",
   "id": "cf72233c",
   "metadata": {},
   "source": [
    "#### Q24. '12345abc'에서 'a'만 출력하세요.\n"
   ]
  },
  {
   "cell_type": "markdown",
   "id": "5d4418ad",
   "metadata": {},
   "source": [
    "#### Q25. 'abc12345Abc'에서 'A'만 출력하세요.\n"
   ]
  },
  {
   "cell_type": "markdown",
   "id": "4cf0d079",
   "metadata": {},
   "source": [
    "#### Q26. 'Banker'에서 'anker', 'banker123'에서 'banker'를 출력하세요\n"
   ]
  },
  {
   "cell_type": "markdown",
   "id": "a7653399",
   "metadata": {},
   "source": [
    "#### Q27. 'KOREA 대한민국'에서 '대'만 출력하세요.\n"
   ]
  },
  {
   "cell_type": "markdown",
   "id": "6c2cb311",
   "metadata": {},
   "source": [
    "#### Q28. text에서  'aaaaBBBcccDDDeee'을 모두 출력하세요.\n",
    "text = 'aaaBBccDDeeaaaaBBBcccDDDeeeeeeDDDcccBBBaaaa'\n"
   ]
  },
  {
   "cell_type": "markdown",
   "id": "01d6e8f9",
   "metadata": {},
   "source": [
    "#### Q29. 아래의 경우에서 \\<html>만 출력하세요"
   ]
  },
  {
   "cell_type": "code",
   "execution_count": 3,
   "id": "27610d5a",
   "metadata": {},
   "outputs": [
    {
     "name": "stdout",
     "output_type": "stream",
     "text": [
      "59\n"
     ]
    },
    {
     "data": {
      "text/plain": [
       "'<html><head><title>Title</title></head><body></body></html>'"
      ]
     },
     "execution_count": 3,
     "metadata": {},
     "output_type": "execute_result"
    }
   ],
   "source": [
    "# Q\n",
    "import re\n",
    "pattern = re.compile('<.*>')\n",
    "text = '<html><head><title>Title</title></head><body></body></html>'\n",
    "\n",
    "\n",
    "print(len(text))\n",
    "p = pattern.search(text)\n",
    "p.group()\n"
   ]
  },
  {
   "cell_type": "markdown",
   "id": "f63d8af4",
   "metadata": {},
   "source": [
    "#### Q30. '1234a1234'에서  '1', '2', '3', '4'를 모두 출력하세요.\n"
   ]
  },
  {
   "cell_type": "markdown",
   "id": "76f473b8",
   "metadata": {},
   "source": [
    "#### Q32. text에서 전체문장 모두 출력하세요."
   ]
  },
  {
   "cell_type": "code",
   "execution_count": 3,
   "id": "1b5e0f6e",
   "metadata": {},
   "outputs": [
    {
     "name": "stdout",
     "output_type": "stream",
     "text": [
      "what are you doing?\n"
     ]
    }
   ],
   "source": [
    "# Q.\n",
    "import re\n",
    "text = \"what are you doing?\\nit is going to be late for school\\nwe need to hurry up\"\n",
    "regex = re.compile('.*')\n",
    "mo = regex.search(text)\n",
    "print(mo.group())"
   ]
  },
  {
   "cell_type": "markdown",
   "id": "285f896a",
   "metadata": {},
   "source": [
    "#### Q33. text에서 대소문자 구분없이 전체문장 모두 출력하세요\n",
    "text = 'Friend fRiend friEnd FRIEND'\n"
   ]
  },
  {
   "cell_type": "markdown",
   "id": "8e22bca5",
   "metadata": {},
   "source": [
    "#### Q34. 1609160537.371015을 \"Sat Jun 26 08:35:03 2021\" 포멧으로 출력하세요.\n"
   ]
  },
  {
   "cell_type": "markdown",
   "id": "53f7cb0a",
   "metadata": {},
   "source": [
    "#### Q35. 현재 날짜와 시간을 \"Sat Jun 26 08:35:03 2021\" 포멧으로 출력하세요.\n"
   ]
  },
  {
   "cell_type": "markdown",
   "id": "1f55a3cb",
   "metadata": {},
   "source": [
    "#### Q36. 현재 시간을 년-월-일 시:분:초로 출력하세요.\n"
   ]
  },
  {
   "cell_type": "markdown",
   "id": "07e495e8",
   "metadata": {},
   "source": [
    "#### Q37. 현재 시간을 time.time을 불러와서 년-월-일 시:분:초로 출력하세요.\n"
   ]
  },
  {
   "cell_type": "markdown",
   "id": "a7f85ffa",
   "metadata": {},
   "source": [
    "#### Q38. 올해 경과된 날짜수 계산하세요\n"
   ]
  },
  {
   "cell_type": "markdown",
   "id": "f5906a4b",
   "metadata": {},
   "source": [
    "#### Q39. 현재 요일을 \"2021-6-26 오늘은 토요일입니다.\"와 같은 형식으로 출력하세요.\n"
   ]
  },
  {
   "cell_type": "markdown",
   "id": "cf43ec83",
   "metadata": {},
   "source": [
    "#### Q40. 1에서 백만까지 더하는데 걸리는 프로그램 실행 시간을 밀리초(ms) 단위로 구하세요.\n"
   ]
  },
  {
   "cell_type": "markdown",
   "id": "ca69829b",
   "metadata": {},
   "source": [
    "#### Q41. 아래 코드를 보완하여 발생 가능한 모든 예외(정수, 인덱스, 미리 파악하지 못한 예외)를 처리한 후 마지막에  '모든 예외처리 완료'를 출력하세요.\n"
   ]
  },
  {
   "cell_type": "code",
   "execution_count": null,
   "id": "0b5808d6",
   "metadata": {},
   "outputs": [],
   "source": [
    "# Q. \n",
    "list_num = [52,273,32,72,100]\n",
    "\n",
    "num_input = int(input('정수 입력> '))\n",
    "print(f'{num_input}번째 요소: {list_num[num_input-1]}')\n"
   ]
  },
  {
   "cell_type": "markdown",
   "id": "470690b7",
   "metadata": {},
   "source": [
    "#### Q42. 기본가격 1000원인 2개의 상품에 대하여 임의의 추가 가격을 입력시 가격 조정한 결과를 반환하는 Price 클래스를 생성 후 객체를 만들어 price1, price2를 수행하세요. \n",
    "- price1 : 기본가격 + 추가가격\n",
    "- price2 : (기본가격 + 추가가격) * 90%\n"
   ]
  },
  {
   "cell_type": "markdown",
   "id": "28df74c1",
   "metadata": {},
   "source": [
    "#### Q43. strings를 문자의 크기 순서로 내림차순 정렬하세요\n",
    "strings = ['a', 'ca', 'bar', 'aaaa', 'ababa']\n"
   ]
  },
  {
   "cell_type": "markdown",
   "id": "a553af72",
   "metadata": {},
   "source": [
    "#### Q44. strings를 다양한 문자가 포함된 순서로 정렬하세요\n"
   ]
  },
  {
   "cell_type": "code",
   "execution_count": 2,
   "id": "09ecd346",
   "metadata": {},
   "outputs": [
    {
     "data": {
      "text/plain": [
       "['aaaa', 'foo', 'abab', 'bar', 'card']"
      ]
     },
     "execution_count": 2,
     "metadata": {},
     "output_type": "execute_result"
    }
   ],
   "source": [
    "# Q.\n",
    "strings = ['foo', 'card', 'bar', 'aaaa', 'abab']\n",
    "strings.sort(key = lambda x:len(set(x)))\n",
    "strings\n"
   ]
  },
  {
   "cell_type": "markdown",
   "id": "d4121485",
   "metadata": {},
   "source": [
    "#### Q45. 'abcde' 를 'edcba'로 바꾸어 출력하세요.(5가지 방법)\n"
   ]
  }
 ],
 "metadata": {
  "kernelspec": {
   "display_name": "Python 3 (ipykernel)",
   "language": "python",
   "name": "python3"
  },
  "language_info": {
   "codemirror_mode": {
    "name": "ipython",
    "version": 3
   },
   "file_extension": ".py",
   "mimetype": "text/x-python",
   "name": "python",
   "nbconvert_exporter": "python",
   "pygments_lexer": "ipython3",
   "version": "3.8.13"
  }
 },
 "nbformat": 4,
 "nbformat_minor": 5
}
