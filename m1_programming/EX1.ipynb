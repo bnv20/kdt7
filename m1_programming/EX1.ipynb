{
 "cells": [
  {
   "cell_type": "markdown",
   "id": "e3534275",
   "metadata": {},
   "source": [
    "#### Q1. 남녀 파트너 정해주기 프로그램(zip) \n",
    "같은 수의 남녀 모임에서 파트너를 랜덤하게 정해주는 프로그램을 만들어 보세요\n",
    "\n",
    "male = ['철수','갑돌','로미오','이몽룡','온돌']\n",
    "\n",
    "female = ['미미','갑순','줄리엣','성춘향','평강']\n",
    "\n"
   ]
  },
  {
   "cell_type": "markdown",
   "id": "da7dc010",
   "metadata": {},
   "source": [
    "#### Q2. 사용자가 입력한 횟수만큼 로또 변호를 출력하는 프로그램을 작성하세요. (중복 금지)"
   ]
  },
  {
   "cell_type": "markdown",
   "id": "207d08b9",
   "metadata": {},
   "source": [
    "[도전과제] 발표자를 원하는 수만큼 랜덤하게 출력하는 프로그램을 작성하세요."
   ]
  },
  {
   "cell_type": "code",
   "execution_count": 1,
   "id": "17591943",
   "metadata": {},
   "outputs": [
    {
     "name": "stdout",
     "output_type": "stream",
     "text": [
      "=============== CAKD7 발표자 랜덤 뽑기 입니다.===============\n",
      "\n",
      " 발표 인원을 입력해주세요 >  \n",
      "2\n",
      " \n",
      "1번 문제 발표자는 최애림 입니다.\n",
      "2번 문제 발표자는 이정현A 입니다.\n"
     ]
    }
   ],
   "source": [
    "import random \n",
    "import numpy as np\n",
    "\n",
    "\n",
    "list = ['박영권','김덕현','변서연','한지웅','양주희','이호원','정지은','이정현A',\n",
    "         '이정현B','이명진','이상윤','조승현','강유한','김영선','최애림','김민섭','박혜린',\n",
    "         '윤정준','김진형','진청아','신창훈','김병석']\n",
    "\n",
    "\n",
    "\n",
    "print(\"=============== CAKD7 발표자 랜덤 뽑기 입니다.===============\"'\\n')\n",
    "                        \n",
    "get_ran_num = int(input(\" 발표 인원을 입력해주세요 >  \"'\\n')) \n",
    "\n",
    "\n",
    "lucky_guy = random.sample(list,get_ran_num)\n",
    "\n",
    "print(\" \")\n",
    "for i in range(get_ran_num):\n",
    "    print(f'{i+1}번 문제 발표자는 {lucky_guy[i]} 입니다.')\n"
   ]
  },
  {
   "cell_type": "markdown",
   "id": "20c8daf5",
   "metadata": {},
   "source": [
    "#### Q3. 입력받은 문자열의 각 문자를 그 다음 문자로 변경하여 출력하세요. abc -> bca"
   ]
  },
  {
   "cell_type": "markdown",
   "id": "b858f22e",
   "metadata": {},
   "source": [
    "#### Q4. url에서 호스트 도메인을 추출하여 출력하세요."
   ]
  },
  {
   "cell_type": "code",
   "execution_count": null,
   "id": "29be2b39",
   "metadata": {},
   "outputs": [],
   "source": [
    "url = 'http://news.naver.com/main/read.nhn?mode=LSD&mid=shm&sid1=105&oid=028&aid=0002334601'"
   ]
  },
  {
   "cell_type": "markdown",
   "id": "093ee8c3",
   "metadata": {},
   "source": [
    "#### Q5. url에서 쿼리문을 추출하여 출력하세요."
   ]
  },
  {
   "cell_type": "code",
   "execution_count": null,
   "id": "11eb6be9",
   "metadata": {},
   "outputs": [],
   "source": [
    "# url에서 '?'뒤에 표시되는 문자열을 쿼리 문자열이라고 하며 변수=값 사이 &로 구분되어 나열된다.\n",
    "url = 'http://news.naver.com/main/read.nhn?mode=LSD&mid=shm&sid1=105&oid=028&aid=0002334601'\n"
   ]
  },
  {
   "cell_type": "markdown",
   "id": "811a293b",
   "metadata": {},
   "source": [
    "#### Q6. 텍스트 파일(mydata.txt)을 읽고  파일의 내용에서 나타나는 문자들에 대해 자주 나타나는 문자들을 아래와 같이 순서대로 출력하세요.\n",
    "- \\[ \\] -> [177]회 나타남\n",
    "- [e] -> [97]회 나타남\n",
    "- [t] -> [85]회 나타남\n"
   ]
  },
  {
   "cell_type": "markdown",
   "id": "72ad73b1",
   "metadata": {},
   "source": [
    "#### Q7. 두개의 수를 입력한 후 두개의 수에 대한 사칙연산을 수행하세요.(0을 입력한 경우 다시 입력하도록 조치)"
   ]
  },
  {
   "cell_type": "code",
   "execution_count": null,
   "id": "76f2335a",
   "metadata": {},
   "outputs": [],
   "source": [
    "# Cal4 클래스를 만들어서 작성"
   ]
  },
  {
   "cell_type": "markdown",
   "id": "29797b11",
   "metadata": {},
   "source": [
    "#### Q8. Order 클래스를 상속받아 extraOrder 클래스에서 메소드 오버라이딩하여 출력가격에 원이 추가되도록 출력하세요."
   ]
  },
  {
   "cell_type": "code",
   "execution_count": 4,
   "id": "367fb713",
   "metadata": {},
   "outputs": [
    {
     "name": "stdout",
     "output_type": "stream",
     "text": [
      "1000\n"
     ]
    }
   ],
   "source": [
    "class Order: \n",
    "    def __init__(self, name): \n",
    "        self.customer = 0 \n",
    "        self.name = name \n",
    "    def order(self, price): \n",
    "        self.customer += price \n",
    "        return self.customer\n",
    "    \n",
    "order = Order('kevin')\n",
    "print(order.order(1000))"
   ]
  },
  {
   "cell_type": "markdown",
   "id": "6c2745b4",
   "metadata": {},
   "source": [
    "#### Q9. 업무미팅이 2시임을 알려주는 자동 이메일을 클래스 AutoEmail을 작성하여 아래와 같이 출력하세요.\n",
    "안녕하세요. Kevin님, 업무미팅은 2시입니다."
   ]
  },
  {
   "cell_type": "markdown",
   "id": "2da93824",
   "metadata": {},
   "source": [
    "#### Q10. 정규표현식을 사용하여 test에서 전화번호만 출력하세요.\n",
    "text = \"문의사항이 있으면 032-232-3245으로 연락주시기 바랍니다.\""
   ]
  },
  {
   "cell_type": "markdown",
   "id": "226c6e1f",
   "metadata": {},
   "source": [
    "#### Q11. 정규표현식을 사용하여 text에서 에러가 들어간 부분만 포함하는 리스트를 출력하세요.\n",
    "text = \"에러 1122, 레퍼런스 오륲, 에러 1033, 아규먼트 오류, 에러 xxx\""
   ]
  },
  {
   "cell_type": "markdown",
   "id": "060225a0",
   "metadata": {},
   "source": [
    "#### Q12. 정규표현식을 사용하여 text에서 지역코드만 출력하세요.\n",
    "text = \"문의사항이 있으면 032-232-3245으로 연락주시기 바랍니다.\""
   ]
  },
  {
   "cell_type": "markdown",
   "id": "07e88f81",
   "metadata": {},
   "source": [
    "#### Q13. 정규표현식을 사용하여 text에서 지역코드 제외한 번호만 출력하세요.\n",
    "text = \"문의사항이 있으면 032-232-3245으로 연락주시기 바랍니다.\""
   ]
  },
  {
   "cell_type": "markdown",
   "id": "fd01bae7",
   "metadata": {},
   "source": [
    "#### Q14. 'abcdefghij' 에 대하여 중첩을 적용한 서브그룹 5개로 컴파일하여 group()함수를 이용하여 'abcdefghi'와 e'를 출력하세요\n"
   ]
  },
  {
   "cell_type": "markdown",
   "id": "397b0ad8",
   "metadata": {},
   "source": [
    "#### Q15. 위문제에서 모든 서브 그룹에 대한 문자열을 포함하는 튜플을 출력하세요."
   ]
  },
  {
   "cell_type": "markdown",
   "id": "a2104908",
   "metadata": {},
   "source": [
    "#### Q16. 이름으로 그룹을 참조하여 'Lots of punctuation 에서 Lots를 출력하세요.\n"
   ]
  },
  {
   "cell_type": "markdown",
   "id": "0c3e39d2",
   "metadata": {},
   "source": [
    "#### Q17. 'Paris is very very beautiful.'에서 'very very'를 출력하세요.\n"
   ]
  },
  {
   "cell_type": "markdown",
   "id": "e611b623",
   "metadata": {},
   "source": [
    "#### Q18. 정규표현식을 작성하여 아래와 같이 출력하세요.\n",
    "['1 apple', '5 oranges', '3 boys', '4 girls', '10 army', '11 mr']"
   ]
  },
  {
   "cell_type": "code",
   "execution_count": null,
   "id": "3f960016",
   "metadata": {},
   "outputs": [],
   "source": [
    "# Q\n",
    "import re\n",
    "li = '1 apple, 5 oranges, 3 boys, 4 girls; 10 army| 11 mr'\n",
    "regex = re.compile(      )\n",
    "list = regex.findall(li)\n",
    "print(list)\n"
   ]
  },
  {
   "cell_type": "code",
   "execution_count": null,
   "id": "7252d485",
   "metadata": {},
   "outputs": [],
   "source": [
    "text = 'Hello my friend! Life is short you need Python!'"
   ]
  },
  {
   "cell_type": "markdown",
   "id": "26eaeb9b",
   "metadata": {},
   "source": [
    "#### Q19. text에서 'H,h'만 출력하세요."
   ]
  },
  {
   "cell_type": "markdown",
   "id": "240ff028",
   "metadata": {},
   "source": [
    "#### Q20. text에서 'H,h'가 아닌 것 모두를 출력하세요."
   ]
  },
  {
   "cell_type": "markdown",
   "id": "766feca4",
   "metadata": {},
   "source": [
    "#### Q21. 'we are going home'에서 home만 출력하세요.\n"
   ]
  },
  {
   "cell_type": "markdown",
   "id": "85fd115e",
   "metadata": {},
   "source": [
    "#### Q22. '199305, 1923A, a93247'에서 '199305'만 출력하세요.\n"
   ]
  },
  {
   "cell_type": "markdown",
   "id": "b04e38d5",
   "metadata": {},
   "source": [
    "#### Q23. '12345abc'에서 'abc'만 출력하세요.\n"
   ]
  },
  {
   "cell_type": "markdown",
   "id": "cf72233c",
   "metadata": {},
   "source": [
    "#### Q24. '12345abc'에서 'a'만 출력하세요.\n"
   ]
  },
  {
   "cell_type": "markdown",
   "id": "5d4418ad",
   "metadata": {},
   "source": [
    "#### Q25. 'abc12345Abc'에서 'A'만 출력하세요.\n"
   ]
  },
  {
   "cell_type": "markdown",
   "id": "4cf0d079",
   "metadata": {},
   "source": [
    "#### Q26. 'Banker'에서 'anker', 'banker123'에서 'banker'를 출력하세요\n"
   ]
  },
  {
   "cell_type": "markdown",
   "id": "a7653399",
   "metadata": {},
   "source": [
    "#### Q27. 'KOREA 대한민국'에서 '대'만 출력하세요.\n"
   ]
  },
  {
   "cell_type": "markdown",
   "id": "6c2cb311",
   "metadata": {},
   "source": [
    "#### Q28. text에서  'aaaaBBBcccDDDeee'을 모두 출력하세요.\n",
    "text = 'aaaBBccDDeeaaaaBBBcccDDDeeeeeeDDDcccBBBaaaa'\n"
   ]
  },
  {
   "cell_type": "markdown",
   "id": "01d6e8f9",
   "metadata": {},
   "source": [
    "#### Q29. 아래의 경우에서 \\<html>만 출력하세요"
   ]
  },
  {
   "cell_type": "code",
   "execution_count": 3,
   "id": "27610d5a",
   "metadata": {},
   "outputs": [
    {
     "name": "stdout",
     "output_type": "stream",
     "text": [
      "59\n"
     ]
    },
    {
     "data": {
      "text/plain": [
       "'<html><head><title>Title</title></head><body></body></html>'"
      ]
     },
     "execution_count": 3,
     "metadata": {},
     "output_type": "execute_result"
    }
   ],
   "source": [
    "# Q\n",
    "import re\n",
    "pattern = re.compile('<.*>')\n",
    "text = '<html><head><title>Title</title></head><body></body></html>'\n",
    "\n",
    "\n",
    "print(len(text))\n",
    "p = pattern.search(text)\n",
    "p.group()\n"
   ]
  },
  {
   "cell_type": "markdown",
   "id": "f63d8af4",
   "metadata": {},
   "source": [
    "#### Q30. '1234a1234'에서  '1', '2', '3', '4'를 모두 출력하세요.\n"
   ]
  },
  {
   "cell_type": "markdown",
   "id": "76f473b8",
   "metadata": {},
   "source": [
    "#### Q32. text에서 전체문장 모두 출력하세요."
   ]
  },
  {
   "cell_type": "code",
   "execution_count": 3,
   "id": "1b5e0f6e",
   "metadata": {},
   "outputs": [
    {
     "name": "stdout",
     "output_type": "stream",
     "text": [
      "what are you doing?\n"
     ]
    }
   ],
   "source": [
    "# Q.\n",
    "import re\n",
    "text = \"what are you doing?\\nit is going to be late for school\\nwe need to hurry up\"\n",
    "regex = re.compile('.*')\n",
    "mo = regex.search(text)\n",
    "print(mo.group())"
   ]
  },
  {
   "cell_type": "markdown",
   "id": "285f896a",
   "metadata": {},
   "source": [
    "#### Q33. text에서 대소문자 구분없이 전체문장 모두 출력하세요\n",
    "text = 'Friend fRiend friEnd FRIEND'\n"
   ]
  },
  {
   "cell_type": "markdown",
   "id": "8e22bca5",
   "metadata": {},
   "source": [
    "#### Q34. 1609160537.371015을 \"Sat Jun 26 08:35:03 2021\" 포멧으로 출력하세요.\n"
   ]
  },
  {
   "cell_type": "markdown",
   "id": "53f7cb0a",
   "metadata": {},
   "source": [
    "#### Q35. 현재 날짜와 시간을 \"Sat Jun 26 08:35:03 2021\" 포멧으로 출력하세요.\n"
   ]
  },
  {
   "cell_type": "markdown",
   "id": "1f55a3cb",
   "metadata": {},
   "source": [
    "#### Q36. 현재 시간을 년-월-일 시:분:초로 출력하세요.\n"
   ]
  },
  {
   "cell_type": "markdown",
   "id": "07e495e8",
   "metadata": {},
   "source": [
    "#### Q37. 현재 시간을 time.time을 불러와서 년-월-일 시:분:초로 출력하세요.\n"
   ]
  },
  {
   "cell_type": "markdown",
   "id": "a7f85ffa",
   "metadata": {},
   "source": [
    "#### Q38. 올해 경과된 날짜수 계산하세요\n"
   ]
  },
  {
   "cell_type": "markdown",
   "id": "f5906a4b",
   "metadata": {},
   "source": [
    "#### Q39. 현재 요일을 \"2021-6-26 오늘은 토요일입니다.\"와 같은 형식으로 출력하세요.\n"
   ]
  },
  {
   "cell_type": "markdown",
   "id": "cf43ec83",
   "metadata": {},
   "source": [
    "#### Q40. 1에서 백만까지 더하는데 걸리는 프로그램 실행 시간을 밀리초(ms) 단위로 구하세요.\n"
   ]
  },
  {
   "cell_type": "markdown",
   "id": "ca69829b",
   "metadata": {},
   "source": [
    "#### Q41. 아래 코드를 보완하여 발생 가능한 모든 예외(정수, 인덱스, 미리 파악하지 못한 예외)를 처리한 후 마지막에  '모든 예외처리 완료'를 출력하세요.\n"
   ]
  },
  {
   "cell_type": "code",
   "execution_count": null,
   "id": "0b5808d6",
   "metadata": {},
   "outputs": [],
   "source": [
    "# Q. \n",
    "list_num = [52,273,32,72,100]\n",
    "\n",
    "num_input = int(input('정수 입력> '))\n",
    "print(f'{num_input}번째 요소: {list_num[num_input-1]}')\n"
   ]
  },
  {
   "cell_type": "markdown",
   "id": "470690b7",
   "metadata": {},
   "source": [
    "#### Q42. 기본가격 1000원인 2개의 상품에 대하여 임의의 추가 가격을 입력시 가격 조정한 결과를 반환하는 Price 클래스를 생성 후 객체를 만들어 price1, price2를 수행하세요. \n",
    "- price1 : 기본가격 + 추가가격\n",
    "- price2 : (기본가격 + 추가가격) * 90%\n"
   ]
  },
  {
   "cell_type": "markdown",
   "id": "28df74c1",
   "metadata": {},
   "source": [
    "#### Q43. strings를 문자의 크기 순서로 내림차순 정렬하세요\n",
    "strings = ['a', 'ca', 'bar', 'aaaa', 'ababa']\n"
   ]
  },
  {
   "cell_type": "markdown",
   "id": "a553af72",
   "metadata": {},
   "source": [
    "#### Q44. strings를 다양한 문자가 포함된 순서로 정렬하세요\n"
   ]
  },
  {
   "cell_type": "code",
   "execution_count": 2,
   "id": "09ecd346",
   "metadata": {},
   "outputs": [
    {
     "data": {
      "text/plain": [
       "['aaaa', 'foo', 'abab', 'bar', 'card']"
      ]
     },
     "execution_count": 2,
     "metadata": {},
     "output_type": "execute_result"
    }
   ],
   "source": [
    "# Q.\n",
    "strings = ['foo', 'card', 'bar', 'aaaa', 'abab']\n",
    "strings.sort(key = lambda x:len(set(x)))\n",
    "strings\n"
   ]
  },
  {
   "cell_type": "markdown",
   "id": "33f9d50b",
   "metadata": {},
   "source": [
    "#### Q45. 'abcde' 를 'edcba'로 바꾸어 출력하세요.(5가지 방법)\n"
   ]
  },
  {
   "cell_type": "markdown",
   "id": "9d6babae",
   "metadata": {},
   "source": [
    "#### Q46. numbers 내부에 들어 있는 숫자가 몇 번 등장하는지를 출력하는 코드를 작성하세요.\n",
    "numbers = [3,6,3,5,8,2,9,7,4,3,6,3,5,8,2,9,7,4]\n"
   ]
  },
  {
   "cell_type": "markdown",
   "id": "8338a6ac",
   "metadata": {},
   "source": [
    "#### Q47. 코딩을 한줄로 작성해서 동일한 결과를 출력하세요\n"
   ]
  },
  {
   "cell_type": "code",
   "execution_count": null,
   "id": "79e0825e",
   "metadata": {},
   "outputs": [],
   "source": [
    "# Q.\n",
    "list = []\n",
    "for i in range(0,20,2):\n",
    "    list.append(i*i)\n",
    "print(list)\n"
   ]
  },
  {
   "cell_type": "markdown",
   "id": "3aae7d4d",
   "metadata": {},
   "source": [
    "#### Q48. 반복문으로 팩토리얼을 구하는 사용자 함수를 작성하고 5!, 10!를 구하세요.\n",
    "\n"
   ]
  },
  {
   "cell_type": "markdown",
   "id": "a63ab3e0",
   "metadata": {},
   "source": [
    "#### Q49. 재귀란 '자기자신을 호출하는 것'을 의미한다. 재귀함수를 이용해서 팩토리얼을 구하는 사용자 함수를 작성하고 1!, 5!, 10!를 구하세요.\n",
    "factorial(n) = n * factorial(n-1) (n >= 1)\n"
   ]
  },
  {
   "cell_type": "markdown",
   "id": "fad73f61",
   "metadata": {},
   "source": [
    "#### Q50. list a의 모든 원소를 실수형으로 바꾸어 출력하세요 \n",
    "a = [1,2,3,4,5]\n"
   ]
  },
  {
   "cell_type": "markdown",
   "id": "e2feb4a1",
   "metadata": {},
   "source": [
    "#### Q31. 문자열 리스트 states를 정형화하여 아래와 같이 출력하세요.\n"
   ]
  },
  {
   "cell_type": "code",
   "execution_count": null,
   "id": "19143ab1",
   "metadata": {},
   "outputs": [],
   "source": [
    "# Q. \n",
    "states = ['   Alabama ', 'Georgia!', 'Georgia', 'georgia', 'FlOrIda',\n",
    "          'south   carolina##', 'West virginia?']\n",
    "[출력]\n",
    "['Alabama',\n",
    " 'Georgia',\n",
    " 'Georgia',\n",
    " 'Georgia',\n",
    " 'Florida',\n",
    " 'South   Carolina',\n",
    " 'West Virginia']\n"
   ]
  },
  {
   "cell_type": "markdown",
   "id": "01edd12b",
   "metadata": {},
   "source": [
    "#### Q51. 게시물의 총 건수와 한 페이지에 보여 줄 게시물 수를 입력시 총 페이지 수를 출력하는 프로그램\n"
   ]
  },
  {
   "cell_type": "markdown",
   "id": "b9915708",
   "metadata": {},
   "source": [
    "#### Q52. 랜덤하게 1000명의 이름, 키와 몸무게 만들어 저장한 후 다시 불러내어 다음과 같이 출력하세요.\n",
    "\n",
    "- 이름 :라바\n",
    "- 몸무게: 80\n",
    "- 키: 146\n",
    "- BMI: 37.53049352598987\n",
    "- 결과: 과체중\n"
   ]
  },
  {
   "cell_type": "markdown",
   "id": "7b84fbe5",
   "metadata": {},
   "source": [
    "#### Q53. 입력한 숫자를 천 단위로 구분하여 출력하세요."
   ]
  },
  {
   "cell_type": "markdown",
   "id": "5e05ca73",
   "metadata": {},
   "source": [
    "#### Q54. \n",
    "카운터에서 거스름돈으로 사용할 500원, 100원, 50원, 10원짜리 동전이 무한히 존재한다고 가정한다. 손님에게 거슬러 줘야할 돈이 N원일 때 거슬러 줘야 할 동전의 최소 개수를 구하세요. 단, 거슬러 줘야 할 돈 N은 항상 10의 배수이다. N은 2750원이다."
   ]
  },
  {
   "cell_type": "markdown",
   "id": "46ea121e",
   "metadata": {},
   "source": [
    "#### Q55. mydata.txt 파일에 있는 단어 개수를 출력하세요.\n"
   ]
  },
  {
   "cell_type": "markdown",
   "id": "4b15c41a",
   "metadata": {},
   "source": [
    "#### Q56. \n",
    "파일이름과 특정 단어를 인자로 입력하면 그 파일에 있는 특정 단어의 개수를 반환하는 사용자 함수를 이용하여 mydata.txt 파일에서 how의 개수를 출력하세요.\n"
   ]
  },
  {
   "cell_type": "markdown",
   "id": "d4441c6b",
   "metadata": {},
   "source": [
    "#### Q59.\n",
    "문자열을 입력받아 같은 문자가 연속적으로 반복되는 경우에 그 반복 횟수를 표시해 문자열을 압축하여 표시하세요.\n",
    "- 예) \"aaabbcccccca\" -> a3b2c6a1\n",
    "\n"
   ]
  },
  {
   "cell_type": "markdown",
   "id": "64273b9c",
   "metadata": {},
   "source": [
    "#### Q60.\n",
    "N개의 요소로 이루어진 배열이 있을 때 주어진 수들을 M번 더하여 가장 큰 수를 만드는 프로그램을 작성하세요. 단 배열의 특정한 인덱스(번호)에 해당하는 수가 연속해서 K번을 초과하여 더해질 수 없는 것이 특징이다.\n",
    "프로그램은 다음 조건을 만족하는 N, M, K를 공백으로 일차 입력하고 N개의 배열을 공백으로 이차 입력하면 결과물을 출력하는 방식으로 수행함.\n",
    "- 2 <= N <= 1000\n",
    "- 1 <= M <= 10000\n",
    "- 1 <= K <= 10000\n"
   ]
  },
  {
   "cell_type": "code",
   "execution_count": null,
   "id": "d5683f3a",
   "metadata": {},
   "outputs": [],
   "source": [
    "5 8 3\n",
    "5 6 9 3 5 7 7"
   ]
  },
  {
   "cell_type": "markdown",
   "id": "a93d9ffe",
   "metadata": {},
   "source": [
    "#### Q61. file1, 2의 파일 크기를 각각 구하세요.\n",
    "\n",
    "- file1 = 'data/stockcode.txt'\n",
    "- file2 = 'data/img_sample.jpg'\n"
   ]
  },
  {
   "cell_type": "markdown",
   "id": "01988854",
   "metadata": {},
   "source": [
    "#### Q62.\n",
    "stockcode.txt의 105바이트 위치에서 500바이트를 읽어 그 내용은 stock_part.txt에 저장 한 후 출력하세요.\n"
   ]
  },
  {
   "cell_type": "markdown",
   "id": "bd2d2e92",
   "metadata": {},
   "source": [
    "#### Q63.\n",
    "네이버 검색에서 관심 주제와 기사 수를 입력하면 그만큼 출력하는 크롤링 프로그램을 작성하여 다음 사항을 수행하세요.\n",
    "\n",
    "기사 제목과 링크를 데이터프레임으로 가져온 후 본문 내용에서 한글 단어만 출력하여 형태소 분석\n",
    "최근 국내 'AI'와 관련하여 가장 많이 언급되는 단어에 대한 빈도분석 및 시각화\n",
    "AI 분야에서의 유의할 만한 트랜드 정보 및 인사이트 도출\n"
   ]
  },
  {
   "cell_type": "markdown",
   "id": "e2c94630",
   "metadata": {},
   "source": [
    "#### Q.64.\n",
    "어떠한 수 N이 1이 될 때까지 다음의 두 과정 중 하나를 반복적으로 선택하여 수행하려고 한다. 단 두번째 연산은 N이 K로 나누어 떨어질 때만 선택할 수 있다.  N과 K를 입력했을 때 N이 1이 될 때까지 1번 혹은 2번의 과정을 수행해야 하는 최소 횟수를 구하는 프로그램을 완성하세요.\n",
    "\n",
    "1. N에서 1을 뺀다.\n",
    "2. N을 K로 나눈다.\n"
   ]
  },
  {
   "cell_type": "code",
   "execution_count": null,
   "id": "9b102f86",
   "metadata": {},
   "outputs": [],
   "source": [
    "15 7\n",
    "3"
   ]
  },
  {
   "cell_type": "markdown",
   "id": "5298b619",
   "metadata": {},
   "source": [
    "#### Q65. 아래와 같이 출력하는 코드를 작성하세요."
   ]
  },
  {
   "cell_type": "code",
   "execution_count": null,
   "id": "edef93e6",
   "metadata": {},
   "outputs": [],
   "source": [
    "*\n",
    "**\n",
    "***\n",
    "****\n",
    "*****"
   ]
  },
  {
   "cell_type": "markdown",
   "id": "c8a932fd",
   "metadata": {},
   "source": [
    "#### Q66. 아래와 같이 출력하는 코드를 작성하세요.\n"
   ]
  },
  {
   "cell_type": "code",
   "execution_count": null,
   "id": "3cf2026e",
   "metadata": {},
   "outputs": [],
   "source": [
    "     *\n",
    "    ***\n",
    "   *****\n",
    "  *******\n",
    " *********\n",
    "  *******\n",
    "   *****\n",
    "    ***\n",
    "     *\n"
   ]
  },
  {
   "cell_type": "markdown",
   "id": "6778f297",
   "metadata": {},
   "source": [
    "#### Q67. Tree의 높이를 입력하면 해당하는 높이의 아래와 같은 Tree를 출력하는 프로그램을 작성하세요."
   ]
  },
  {
   "cell_type": "code",
   "execution_count": null,
   "id": "fc3101d2",
   "metadata": {},
   "outputs": [],
   "source": [
    "         *\n",
    "        ***\n",
    "       *****\n",
    "      *******\n",
    "     *********\n",
    "    ***********\n",
    "   *************\n",
    "  ***************\n",
    " *****************\n",
    "*******************\n",
    "        ***\n",
    "        ***\n",
    "        ***\n"
   ]
  },
  {
   "cell_type": "markdown",
   "id": "e922379b",
   "metadata": {},
   "source": [
    "#### Q68. 구구단을 출력하는 프로그램을 작성하세요."
   ]
  },
  {
   "cell_type": "markdown",
   "id": "89faaa3f",
   "metadata": {},
   "source": [
    "#### Q69.\n",
    "아래와 같이 입력하면 N X M 행렬 형태의 숫자 카드 중에서 먼저 뽑고자 하는 카드가 포함되어 있는 행을 선택한 후 그 행에서 가장 숫자가 낮은 카드를 뽑아야 하는 규칙하에서 가장 높은 숫자가 쓰인 카드 한장의 숫자를 출력하는 프로그램을 작성하세요. \n",
    "- 첫번째 입력 : N X M 형열에 대하여 N(행), M(열)의 개수를 공백을 기준으로 입력(1<= N, M<=100)\n",
    "- 두번째 입력 : 각 행의 숫자를 공백을 기준으로 입력. 단, 각 숫자는 1 이상 10000 이하의 자연수임.\n"
   ]
  },
  {
   "cell_type": "markdown",
   "id": "afaa58d6",
   "metadata": {},
   "source": [
    "#### Q70.\n",
    "Q69는 min max 함수, 정렬 등의 방법으로 문제를 풀었다. 이 문제를 다중 for문을 사용하여 풀어보세요."
   ]
  },
  {
   "cell_type": "markdown",
   "id": "4a914beb",
   "metadata": {},
   "source": [
    "#### Q71.\n",
    "여행가 A는 N X N 크기의 정사각형 공간에 서 있다. A는 6개의 이동 명령 계획에 따라 움직이게 된다. 이동 명령은 L(왼쪽), R(오른쪽), U(윗쪽), D(아랫쪽)로 구성되며 R R R U D D와 같이 6개이다. 정사각형 공간을 벗어나는 움직임은 무시된다. 언급한 규칙에 따라 N과 이동 명령 계획으로 각각 5와 R R R U D D를 입력하면 A의 공간 좌표는 3 4가 된다. 이동 명력 계획서가 주어질 때 A가 최종적으로 도착할 지점의 좌표를 출력하는 프로그램을 작성하시오.\n"
   ]
  },
  {
   "cell_type": "code",
   "execution_count": null,
   "id": "95342413",
   "metadata": {},
   "outputs": [],
   "source": [
    "(1,1)(1,2)(1,3)(1,4)\n",
    "               (2,4)\n",
    "               (3,4)"
   ]
  },
  {
   "cell_type": "markdown",
   "id": "f444849c",
   "metadata": {},
   "source": [
    "#### Q72.\n",
    "정수 N이 입력되면 00시 00분 00초부터 N시 59분 59초까지의 모든 시각 중에서 3이 하나라도 포함되는 모든 경우의 수를 구하는 프로그램을 작성하시오.(0<= N <=23)\n"
   ]
  },
  {
   "cell_type": "code",
   "execution_count": null,
   "id": "92c04e71",
   "metadata": {},
   "outputs": [],
   "source": [
    "00시 02분 03초\n",
    "00시 27분 45초\n",
    "7 -> 14625"
   ]
  },
  {
   "cell_type": "markdown",
   "id": "a5ddb284",
   "metadata": {},
   "source": [
    "#### Q73.\n",
    "행 위치는 1~8로 열 위치는 a ~ h로 표현하는 8 x 8 좌표 평면상에서 특정 위치가 주어졌을 때 아래 조건하에서 그 위치에서 이동할 수 있는 경우의 수를 출력하는 프로그램을 작성하세요.\n",
    "- 수평으로 두 칸 이동한 뒤에 수직으로 한 칸 이동\n",
    "- 수직으로 두 칸 이동한 뒤에 수평으로 한 칸 이동\n",
    "- 8 x 8 좌표 평면을 나갈 수 없음\n"
   ]
  },
  {
   "cell_type": "code",
   "execution_count": null,
   "id": "978119b1",
   "metadata": {},
   "outputs": [],
   "source": [
    "(-1,-2)(1,-2)\n",
    "(2,1)(-2,-1)\n",
    "b3"
   ]
  },
  {
   "cell_type": "code",
   "execution_count": 3,
   "id": "fa2f5bf8",
   "metadata": {},
   "outputs": [
    {
     "data": {
      "text/plain": [
       "array([[ 0,  1,  2,  3,  4,  5,  6,  7],\n",
       "       [ 8,  9, 10, 11, 12, 13, 14, 15],\n",
       "       [16, 17, 18, 19, 20, 21, 22, 23],\n",
       "       [24, 25, 26, 27, 28, 29, 30, 31],\n",
       "       [32, 33, 34, 35, 36, 37, 38, 39],\n",
       "       [40, 41, 42, 43, 44, 45, 46, 47],\n",
       "       [48, 49, 50, 51, 52, 53, 54, 55],\n",
       "       [56, 57, 58, 59, 60, 61, 62, 63]])"
      ]
     },
     "execution_count": 3,
     "metadata": {},
     "output_type": "execute_result"
    }
   ],
   "source": [
    "import numpy as np\n",
    "np.arange(64).reshape(8,-1)"
   ]
  },
  {
   "cell_type": "markdown",
   "id": "f5f4b8b1",
   "metadata": {},
   "source": [
    "#### Q74.\n",
    "캐릭터는 매뉴얼에 따라 이동한다. 아래 입력조건에 따라 캐릭터가 방문한 칸의 수를 출력하는 프로그램을 작성하세요.\n",
    "\n",
    "- 입력조건\n",
    "  - 첫째 줄에 맵의 세로 크기 N과 가로 크기 M을 공백으로 구분하여 입력 (3 <= N,M <=50)\n",
    "  - 둘째 줄에 게임 캐릭터가 있는 칸의 좌표 (A,B)와 바라보는 방향 d가 각각 서로 공백으로 구분하여 입력(방향 d의 값으로는 북, 동, 남, 서가 각각 0,1,2,3)\n",
    "  - 세째 줄에 맵이 육지인지 바다인지에 대한 정보 입력(육지 0, 바다 1) N개의 줄에 맵의 상태가 북쪽으로 부터 남쪽순서대로 각 줄의 데이터는 서쪽부터 동쪽 순서대로 주어진다.\n",
    "  - 처음에 캐릭터가 위치한 칸의 상태는 항상 육지이다.\n",
    "\n",
    "\n",
    "- 매뉴얼<BR>\n",
    "  캐릭터가 있는 장소는 1 X 1 크기의 정사각형으로 이루어진 N X M 크기의 직사각형으로 각각의 칸은 육지 또는 바다이다.캐릭터는 동서남북 중 한 곳을 바라본다. 맵의 각 칸은 (A, B)로 나타낼 수 있고 A는 북쪽으로부터 떨어진 칸의 개수, B는 서쪽으로부터 떨어진 칸의 개수이다.캐릭터는 상하좌우로 움직일 수 있고 바다로 되어 있는 공간에는 갈 수 없다. 캐릭터의 움직임 설정을 위한 매뉴얼은 아래와 같다.\n",
    "  - 현재 위치에서 현재 방향을 기준으로 왼쪽 방향부터 차례대로 갈 곳을 정한다.\n",
    "  - 캐릭터의 바로 왼쪽 방향에 아직 가보지 않은 칸이 존재한다면 왼쪽 방향으로 회전한 다음 왼쪽으로 한 칸을 전진한다. 왼쪽 방향에 가보지 않은 칸이 없다면 왼쪽 방향으로 회전만 수행하고 1단계로 돌아간다.\n",
    "  - 만약 네 방향 모두 이미 가본 칸이거나 바다로 되어 있는 칸인 경우에는 바라보는 방향을 유지한 채로 한 칸 뒤로 가고 1단계로 돌아간다. 단, 이때 뒤쪽 방향이 바다인 칸이라 뒤로 갈수 없는 경우에는 움직임을 멈춘다.\n"
   ]
  },
  {
   "cell_type": "code",
   "execution_count": null,
   "id": "e4ea6f0e",
   "metadata": {},
   "outputs": [],
   "source": [
    "4 4\n",
    "1 1 0\n",
    "1 1 1 1\n",
    "1 0 0 1\n",
    "1 1 0 1\n",
    "1 1 1 1\n",
    "3"
   ]
  },
  {
   "cell_type": "code",
   "execution_count": 5,
   "id": "5eafd0e9",
   "metadata": {},
   "outputs": [
    {
     "name": "stdout",
     "output_type": "stream",
     "text": [
      "[5, 2, 3, 1]\n",
      "[1, 3, 2, 5]\n"
     ]
    }
   ],
   "source": [
    "# 스택 : 박스 쌓기에 비유. 선입후출 구조\n",
    "\n",
    "stack = []\n",
    "stack.append(5)\n",
    "stack.append(2)\n",
    "stack.append(3)\n",
    "stack.append(7)\n",
    "stack.pop()\n",
    "stack.append(1)\n",
    "stack.append(4)\n",
    "stack.pop()\n",
    "\n",
    "print(stack)\n",
    "print(stack[::-1])"
   ]
  },
  {
   "cell_type": "code",
   "execution_count": 8,
   "id": "425f35d2",
   "metadata": {},
   "outputs": [
    {
     "name": "stdout",
     "output_type": "stream",
     "text": [
      "deque([3, 7, 1, 4])\n",
      "deque([4, 1, 7, 3])\n"
     ]
    }
   ],
   "source": [
    "# 큐 : 먼저 온 사람이 먼저 들어간다. 선입선출 구조\n",
    "from collections import deque\n",
    "queue = deque()\n",
    "\n",
    "queue.append(5)\n",
    "queue.append(2)\n",
    "queue.append(3)\n",
    "queue.append(7)\n",
    "queue.popleft()\n",
    "queue.append(1)\n",
    "queue.append(4)\n",
    "queue.popleft()\n",
    "\n",
    "print(queue)\n",
    "queue.reverse()\n",
    "print(queue)"
   ]
  },
  {
   "cell_type": "markdown",
   "id": "922e3aed",
   "metadata": {},
   "source": [
    "#### Q75.\n",
    "N X M 크기의 얼음 틀로 한번에 만들 수 있는 아이스크림의 개수를 아래 입력조건에 따라 출력하는 프로그램을 DFS(Depth First Search)를 이용하여 작성하세요.\n",
    " \n",
    "- 입력조건\n",
    "  - 첫번째 줄에 얼음 틀의 세로 길이 N과 가로 길이 M이 주어진다.(1 <= N,M <= 1000)\n",
    "  - 두번째 줄부터 N+1번째 줄까지 얼음 틀의 형태가 주어진다.\n",
    "  - 이때 구멍이 뚫려있는 부분은 0 그렇지 않은 부분은 1이다.\n",
    "  - 구멍이 뚫려 있는 부분끼리 상, 하, 좌, 우로 붙어 있는 경우 서로 연결되어 있는 것으로 간주한다.\n"
   ]
  },
  {
   "cell_type": "code",
   "execution_count": null,
   "id": "37ed94e1",
   "metadata": {},
   "outputs": [],
   "source": [
    "5 5\n",
    "00110\n",
    "00011\n",
    "11111\n",
    "00111\n",
    "11000"
   ]
  },
  {
   "cell_type": "code",
   "execution_count": 4,
   "id": "98ede980",
   "metadata": {},
   "outputs": [
    {
     "name": "stdout",
     "output_type": "stream",
     "text": [
      "1 번째 재귀함수에서 2 번째 재귀함수를 호출합니다.\n",
      "2 번째 재귀함수에서 3 번째 재귀함수를 호출합니다.\n",
      "3 번째 재귀함수에서 4 번째 재귀함수를 호출합니다.\n",
      "4 번째 재귀함수에서 5 번째 재귀함수를 호출합니다.\n",
      "4 번째 재귀함수를 호출합니다.\n",
      "3 번째 재귀함수를 호출합니다.\n",
      "2 번째 재귀함수를 호출합니다.\n",
      "1 번째 재귀함수를 호출합니다.\n"
     ]
    }
   ],
   "source": [
    "def recursive_function(i):\n",
    "    if i == 5:\n",
    "        return\n",
    "    print(i,'번째 재귀함수에서', i+1, '번째 재귀함수를 호출합니다.')\n",
    "    recursive_function(i+1)\n",
    "    print(i,'번째 재귀함수를 호출합니다.')\n",
    "recursive_function(1)"
   ]
  },
  {
   "cell_type": "markdown",
   "id": "fb43dd49",
   "metadata": {},
   "source": [
    "#### Q76.\n",
    "10!을 재귀함수를 이용하여 출력하세요."
   ]
  },
  {
   "cell_type": "code",
   "execution_count": 8,
   "id": "bd3ae6e5",
   "metadata": {},
   "outputs": [
    {
     "data": {
      "text/plain": [
       "3628800"
      ]
     },
     "execution_count": 8,
     "metadata": {},
     "output_type": "execute_result"
    }
   ],
   "source": [
    "def factorial_iterative(n):\n",
    "    result = 1\n",
    "    for i in range(1,n+1):\n",
    "        result *= i\n",
    "    return result\n",
    "factorial_iterative(10)"
   ]
  },
  {
   "cell_type": "markdown",
   "id": "3eedee64",
   "metadata": {},
   "source": [
    "#### Q77(0830_재도전).\n",
    "N X M 크기의 미로에는 여러마리의 괴물이 있어 이를 피해 탈출해야 한다. 주인공의 위치는 (0,0)이고 미로의 출구는 (N-1,M-1)의 위치에 존재하며 한번에 한칸씩 이동할 수 있다. 괴물이 있는 부분은 0, 없는 부분은 1로 표시되어 있으며 미로는 반드시 탈출할 수 있는 형태로 제시된다. 주인공이 탈출하기 위해 움직여야 하는 최소 칸의 개수를 구하세요. 칸을 셀 때는 시작 칸과 마지막 칸을 모두 포함하여 계산하고 입력 조건은 아래와 같다.(BFS를 이용)\n",
    "- 첫째 줄에 두 정수 N,M(4<=N,M<=200)이 주어진다. \n",
    "- 다음 N개의 줄에는 각각 M개의 정수(0 혹은 1)로 미로의 정보가 주어진다. 각각의 수들은 공백없이 붙여서 입력으로 제시된다. \n",
    "- 또한 시작칸과 마지막칸은 항상 1이다.\n"
   ]
  },
  {
   "cell_type": "code",
   "execution_count": null,
   "id": "56ce9e63",
   "metadata": {},
   "outputs": [],
   "source": [
    "5 5\n",
    "11011\n",
    "01011\n",
    "01111\n",
    "11011\n",
    "10111\n",
    "9"
   ]
  },
  {
   "cell_type": "code",
   "execution_count": 3,
   "id": "9a889f34",
   "metadata": {},
   "outputs": [
    {
     "name": "stdout",
     "output_type": "stream",
     "text": [
      "5 5\n",
      "11011\n",
      "01011\n",
      "01111\n",
      "11011\n",
      "10111\n",
      "9\n"
     ]
    }
   ],
   "source": [
    "from collections import deque\n",
    "\n",
    "# N, M을 공백으로 구분하여 입력받기\n",
    "n,m=map(int,input().split())\n",
    "\n",
    "# 2차원 리스트의 맵 정보 입력받기\n",
    "graph=[]\n",
    "for i in range(n):\n",
    "    graph.append(list(map(int,input())))\n",
    "\n",
    "# 이동할 네 방향 정의(상, 하, 좌, 우), x는 위쪽에서 떨어진 위치, y는 좌측에서 떨어진 위치 \n",
    "dx = [-1,1,0,0]\n",
    "dy = [0,0,-1,1]\n",
    "\n",
    "# BFS 소스코드 구현\n",
    "def bfs(x,y):\n",
    "    # 큐 구현을 위해 deque 라이브러리 사용\n",
    "    queue = deque()\n",
    "    queue.append((x,y))\n",
    "    # 큐가 빌 때까지 반복\n",
    "\n",
    "    while queue:\n",
    "            x,y = queue.popleft()\n",
    "            # 현재 위치에서 네 방향으로의 위치 확인\n",
    "            for i in range(4):\n",
    "                nx = x + dx[i]\n",
    "                ny = y + dy[i]\n",
    "                # 미로 찾기 공간을 벗어난 경우 무시\n",
    "                if nx < 0 or ny < 0 or nx >= n or ny >=m:\n",
    "                    continue\n",
    "                    # 괴물인 경우 무시\n",
    "                if graph[nx][ny] == 0:\n",
    "                    continue\n",
    "                    # 해당 노드를 처음 방문하는 경우에만 최단 거리 기록\n",
    "                if graph[nx][ny] == 1:\n",
    "                    graph[nx][ny] =graph[x][y] + 1\n",
    "                    queue.append((nx,ny))\n",
    "\n",
    "        # 가장 오른쪽 아래까지의 최단 거리 반환(이동할 때마다 1씩 추가하기 때문에 탈출시에 최종 이동한 칸의 개수가 만들어짐)\n",
    "    return graph[n-1][m-1]\n",
    "\n",
    "# BFS를 수행한 결과 출력\n",
    "print(bfs(0,0))\n"
   ]
  },
  {
   "cell_type": "markdown",
   "id": "e55e5927",
   "metadata": {},
   "source": [
    "#### Q78.\n",
    "소수란 2보다 큰 자연수 중에서 1과 자기자신을 제외한 자연수로는 나누어떨어지지 않는 자연수이다. 어떠한 자연수가 소수인지 아닌지 판별하는 프로그램을 작성하세요.\n"
   ]
  },
  {
   "cell_type": "markdown",
   "id": "1b18c268",
   "metadata": {},
   "source": [
    "#### Q79.\n",
    "M 이상 N 이하의 소수를 모두 출력하는 프로그램을 작성하세요.\n",
    "- 입력조건\n",
    "  - 첫째 줄에 자연수 M과 N이 빈칸을 사이에 두고 주어진다.(1<=M<=N<=1,000,000)\n",
    "  - 단 M이상 N 이하의 소수가 하나 이상 있는 입력만 주어진다.\n"
   ]
  },
  {
   "cell_type": "markdown",
   "id": "75365462",
   "metadata": {},
   "source": [
    "#### Q80.\n",
    "\n",
    "암호는 서로 다른 L개의 알파벳 소문자들로 구성되며 최소 한 개의 모음(a, e, i, o, u)과 최소 두 개의 자음으로 구성되어 있다고 알려져 있다. 또한 정렬된 문자열을 선호하는 직원들의 성향으로 미루어 보아 암호를 이루는 알파벳이 암호에서 증가하는 순서로 배열되었을 것이라고 추측된다. 즉, abc는 가능성이 있는 암호이지만 bac는 그렇지 않다. 새 보안 시스템에서 직원들이 암호로 사용했을 법한 문자의 종류는 C가지가 있다고 한다. 이 알파벳을 입수한 james, kevin 형제는 직원들의 방에 침투하기 위해 암호를 추측해 보려고 한다. C개의 문자들이 모두 주어졌을 때, 가능성 있는 암호들을 모두 구하는 프로그램을 다음 사항에 유의하여 작성하시오.\n",
    "- 첫째 줄에 두 정수 L, C가 주어진다. (3 ≤ L ≤ C ≤ 15) 다음 줄에는 C개의 문자들이 공백으로 구분되어 주어진다. 주어지는 문자들은 알파벳 소문자이며, 중복되는 것은 없다.\n",
    "- 각 줄에 하나씩, 사전식으로 가능성 있는 암호를 모두 출력한다.\n"
   ]
  },
  {
   "cell_type": "code",
   "execution_count": null,
   "id": "87b6b684",
   "metadata": {},
   "outputs": [],
   "source": [
    "4 6\n",
    "a t c i s w\n",
    "\n",
    "acis\n",
    "acit\n"
   ]
  },
  {
   "cell_type": "markdown",
   "id": "f12a0760",
   "metadata": {},
   "source": [
    "#### Q81.\n",
    "파이썬의 itertools 라이브러리를 활용하여 리스트 data = ['A','B','C']로 부터 아래 문제를 풀어보세요.\n",
    "- 3개를 뽑아 나열하는 모든 경우를 출력하세요(중복 허용안됨)\n",
    "- 3개를 뽑아 나열하는 모든 경우를 출력하세요(중복 허용)\n",
    "- 3개를 뽑아 순서에 상관없이 나열하는 모든 경우를 출력하세요(중복 허용안됨)\n",
    "- 3개를 뽑아 순서에 상관없이 나열하는 모든 경우를 출력하세요(중복 허용)\n"
   ]
  },
  {
   "cell_type": "markdown",
   "id": "cbc2bc49",
   "metadata": {},
   "source": [
    "#### Q82.\n",
    "아래사항을 참조, 파이썬의 heapq 라이브러리를 활용하여 주어진 리스트 iterable = [1,3,5,7,9,2,4,6,8,0]을 힙 정렬하여 출력하세요.\n",
    "- 최소 힙 : heap 역할을 할 빈 리스트를 선언해주고, heappush 메소드의 매개변수로 해당 리스트와 추가하고자 하는 값을 넣어주면 리스트에 힙 정렬이 되게 원하는 값이 삽입된다.\n",
    "- 최대 힙 : heapq에서는 최대 힙을 제공하지 않는다. 따라서 부호를 변경하는 방법을 사용해서 최대 힙을 구현한다.\n"
   ]
  }
 ],
 "metadata": {
  "kernelspec": {
   "display_name": "Python 3 (ipykernel)",
   "language": "python",
   "name": "python3"
  },
  "language_info": {
   "codemirror_mode": {
    "name": "ipython",
    "version": 3
   },
   "file_extension": ".py",
   "mimetype": "text/x-python",
   "name": "python",
   "nbconvert_exporter": "python",
   "pygments_lexer": "ipython3",
   "version": "3.8.13"
  }
 },
 "nbformat": 4,
 "nbformat_minor": 5
}
