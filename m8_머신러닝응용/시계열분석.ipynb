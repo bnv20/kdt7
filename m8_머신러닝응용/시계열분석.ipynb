{
 "cells": [
  {
   "cell_type": "markdown",
   "id": "a2646f2e",
   "metadata": {},
   "source": [
    "## 시계열 분석 개념\n",
    "- 시계열 데이터를 통해 시간의 흐름에 따른 종속변수의 변화를 예측하는 것으로 주가, 환율, 원별 재고량 등이 시계열 자료에 해당된다.\n",
    "- 회귀분석은 변수 간의 독립성을 전제로 분석을 하지만 시계열 분석은 변수 간의 자기상관성을 전제로 한다는 것이 가장 큰 차이이며 회귀분석의 경우 순서에 영향을 받지 않지만 시계열 분석은 데이터의 순서가 매우 중요하다.\n",
    "- 정상 시계열 분석과 비정상 시계열 분석으로 구분. 정상성 조건을 모두 만족시키면 정상 시계열, 정상성 조건을 하나라도 만족하지 못하면 비정상 시계열이라 한다.\n",
    "- 시계열 분석에서 대부분의 자료는 비정상 시계열 자료이므로 이를 정상시계열로 변환한 후에 분석을 수행한다.\n",
    "- 정상시계열은 추세성, 계절성 등의 패턴을 보이지 않으며 자료의 변화 폭이 일정하고 시간의 흐름에 따라 자기 상관성이 상이하지 않다는 특징을 가지게 된다.\n",
    "  [정상성의 조건]  \n",
    "  - 시계열의 평균이 시간에 따라서 일정하다.\n",
    "  - 분산이 시점에 의존하지 않고 일정하다.\n",
    "  - 시점간의 공분산이 특정 시점에 의존하지 않고 오직 시차에만 의존한다. 즉 t 시점과 t-1 시점의 공분산은 t 시점과 t+1 시점의 공분산과 같다는 것을 의미한다.\n",
    "- 평균이 일정하지 않은 경우에는 현시점 자료에서 이전 시점 자료를 빼는 차분을 통해 정상 시계열화할 수 있다.\n",
    "- 시계열 데이터가 계절성을 가지는 경우에는 현시점 자료에서 여러 시점 전의 자료를 빼는 계절차분을 이용한다.\n",
    "- 분산이 일정하지 않은 경우에는 변환을 통해 정상 시계열화할 수 있다.  \n",
    "- 시계열은 추세요인, 계절요인, 순환요인, 불규칙요인으로 구성되며 이들 요인이 복잡하게 혼합되어 하나의 시계열 데이터를 구성한다. 분석목적에 따라 특정요인만을 분리해 분석하거나 제거하는 작업을 하게 되는데 이를 분해시계열이라고 한다.\n",
    "\n",
    "[시계열의 구성요소]  \n",
    "  - 추세요인 : 인구의 증가, 기술의 변화 등과 같은 요인에 의해 장기간 일정한 방향으로 상승 또는 하락하는 경향을 보이는 요인으로 급격한 충격이 없는 한 지속되는 특징이 있다.\n",
    "  - 순환요인 : 정확히 알려진 이유가 없고 주기가 일정하지 않은 변동을 순환요인이라고 한다. 보통 추세선을 따라 상하로 반복 운동하는 형태로 나타난다.\n",
    "  - 계절요인 : 요일별, 월별, 분기별, 계절별 일정한 주기를 가지는 상하 반복의 규칙적인 변동을 계절변동이라 한다. 매년 같은 시기에 유사한 패턴으로 나타나므로 예측하기가 상대적으로 쉬우며 순환요인보다 주기가 짧은 것이 특징이다.\n",
    "  - 불규칙요인 : 위의 세가지 요인으로 설명하지 못하는 오차에 해당하는 요인으로 어떠한 규칙성 없이 우연히 발생하는 예측 불가능한 변동이다.\n"
   ]
  },
  {
   "cell_type": "code",
   "execution_count": 3,
   "id": "631a5bc1",
   "metadata": {},
   "outputs": [
    {
     "name": "stdout",
     "output_type": "stream",
     "text": [
      "Collecting statsmodels\n",
      "  Downloading statsmodels-0.13.5-cp38-cp38-win_amd64.whl (9.2 MB)\n",
      "     ---------------------------------------- 9.2/9.2 MB 866.6 kB/s eta 0:00:00\n",
      "Requirement already satisfied: packaging>=21.3 in c:\\users\\admin\\anaconda3\\envs\\cakd7\\lib\\site-packages (from statsmodels) (21.3)\n",
      "Requirement already satisfied: numpy>=1.17 in c:\\users\\admin\\anaconda3\\envs\\cakd7\\lib\\site-packages (from statsmodels) (1.23.0)\n",
      "Requirement already satisfied: pandas>=0.25 in c:\\users\\admin\\anaconda3\\envs\\cakd7\\lib\\site-packages (from statsmodels) (1.4.3)\n",
      "Collecting patsy>=0.5.2\n",
      "  Downloading patsy-0.5.3-py2.py3-none-any.whl (233 kB)\n",
      "     ------------------------------------ 233.8/233.8 kB 622.8 kB/s eta 0:00:00\n",
      "Requirement already satisfied: scipy>=1.3 in c:\\users\\admin\\anaconda3\\envs\\cakd7\\lib\\site-packages (from statsmodels) (1.8.1)\n",
      "Requirement already satisfied: pyparsing!=3.0.5,>=2.0.2 in c:\\users\\admin\\anaconda3\\envs\\cakd7\\lib\\site-packages (from packaging>=21.3->statsmodels) (3.0.9)\n",
      "Requirement already satisfied: pytz>=2020.1 in c:\\users\\admin\\anaconda3\\envs\\cakd7\\lib\\site-packages (from pandas>=0.25->statsmodels) (2022.1)\n",
      "Requirement already satisfied: python-dateutil>=2.8.1 in c:\\users\\admin\\anaconda3\\envs\\cakd7\\lib\\site-packages (from pandas>=0.25->statsmodels) (2.8.2)\n",
      "Requirement already satisfied: six in c:\\users\\admin\\anaconda3\\envs\\cakd7\\lib\\site-packages (from patsy>=0.5.2->statsmodels) (1.16.0)\n",
      "Installing collected packages: patsy, statsmodels\n",
      "Successfully installed patsy-0.5.3 statsmodels-0.13.5\n"
     ]
    }
   ],
   "source": [
    "!pip install statsmodels"
   ]
  },
  {
   "cell_type": "code",
   "execution_count": 4,
   "id": "c3a0be0d",
   "metadata": {},
   "outputs": [
    {
     "name": "stdout",
     "output_type": "stream",
     "text": [
      "            #Passengers\n",
      "Month                  \n",
      "1949-01-01          112\n",
      "1949-02-01          118\n",
      "1949-03-01          132\n",
      "1949-04-01          129\n",
      "1949-05-01          121\n",
      "...                 ...\n",
      "1960-08-01          606\n",
      "1960-09-01          508\n",
      "1960-10-01          461\n",
      "1960-11-01          390\n",
      "1960-12-01          432\n",
      "\n",
      "[144 rows x 1 columns]\n"
     ]
    }
   ],
   "source": [
    "import numpy as np\n",
    "import pandas as pd\n",
    "import matplotlib.pyplot as plt\n",
    "from statsmodels.tsa.seasonal import seasonal_decompose\n",
    "\n",
    "airline = pd.read_csv('AirPassengers.csv', index_col='Month',parse_dates=True)\n",
    "print(airline)"
   ]
  },
  {
   "cell_type": "code",
   "execution_count": 5,
   "id": "19903325",
   "metadata": {},
   "outputs": [
    {
     "data": {
      "text/html": [
       "<div>\n",
       "<style scoped>\n",
       "    .dataframe tbody tr th:only-of-type {\n",
       "        vertical-align: middle;\n",
       "    }\n",
       "\n",
       "    .dataframe tbody tr th {\n",
       "        vertical-align: top;\n",
       "    }\n",
       "\n",
       "    .dataframe thead th {\n",
       "        text-align: right;\n",
       "    }\n",
       "</style>\n",
       "<table border=\"1\" class=\"dataframe\">\n",
       "  <thead>\n",
       "    <tr style=\"text-align: right;\">\n",
       "      <th></th>\n",
       "      <th>passengers</th>\n",
       "    </tr>\n",
       "    <tr>\n",
       "      <th>Month</th>\n",
       "      <th></th>\n",
       "    </tr>\n",
       "  </thead>\n",
       "  <tbody>\n",
       "    <tr>\n",
       "      <th>1949-01-01</th>\n",
       "      <td>112</td>\n",
       "    </tr>\n",
       "    <tr>\n",
       "      <th>1949-02-01</th>\n",
       "      <td>118</td>\n",
       "    </tr>\n",
       "    <tr>\n",
       "      <th>1949-03-01</th>\n",
       "      <td>132</td>\n",
       "    </tr>\n",
       "    <tr>\n",
       "      <th>1949-04-01</th>\n",
       "      <td>129</td>\n",
       "    </tr>\n",
       "    <tr>\n",
       "      <th>1949-05-01</th>\n",
       "      <td>121</td>\n",
       "    </tr>\n",
       "    <tr>\n",
       "      <th>...</th>\n",
       "      <td>...</td>\n",
       "    </tr>\n",
       "    <tr>\n",
       "      <th>1960-08-01</th>\n",
       "      <td>606</td>\n",
       "    </tr>\n",
       "    <tr>\n",
       "      <th>1960-09-01</th>\n",
       "      <td>508</td>\n",
       "    </tr>\n",
       "    <tr>\n",
       "      <th>1960-10-01</th>\n",
       "      <td>461</td>\n",
       "    </tr>\n",
       "    <tr>\n",
       "      <th>1960-11-01</th>\n",
       "      <td>390</td>\n",
       "    </tr>\n",
       "    <tr>\n",
       "      <th>1960-12-01</th>\n",
       "      <td>432</td>\n",
       "    </tr>\n",
       "  </tbody>\n",
       "</table>\n",
       "<p>144 rows × 1 columns</p>\n",
       "</div>"
      ],
      "text/plain": [
       "            passengers\n",
       "Month                 \n",
       "1949-01-01         112\n",
       "1949-02-01         118\n",
       "1949-03-01         132\n",
       "1949-04-01         129\n",
       "1949-05-01         121\n",
       "...                ...\n",
       "1960-08-01         606\n",
       "1960-09-01         508\n",
       "1960-10-01         461\n",
       "1960-11-01         390\n",
       "1960-12-01         432\n",
       "\n",
       "[144 rows x 1 columns]"
      ]
     },
     "execution_count": 5,
     "metadata": {},
     "output_type": "execute_result"
    }
   ],
   "source": [
    "data = airline.rename({'#Passengers':'passengers'},axis=1)\n",
    "data"
   ]
  },
  {
   "cell_type": "code",
   "execution_count": 6,
   "id": "9ce97570",
   "metadata": {},
   "outputs": [
    {
     "data": {
      "text/plain": [
       "<Figure size 720x576 with 0 Axes>"
      ]
     },
     "metadata": {},
     "output_type": "display_data"
    },
    {
     "data": {
      "image/png": "[encoded data removed]",
      "text/plain": [
       "<Figure size 432x288 with 1 Axes>"
      ]
     },
     "metadata": {
      "needs_background": "light"
     },
     "output_type": "display_data"
    }
   ],
   "source": [
    "plt.style.use('default')\n",
    "plt.figure(figsize=(10,8))\n",
    "data.plot()\n",
    "plt.show()"
   ]
  },
  {
   "cell_type": "code",
   "execution_count": 7,
   "id": "809e43ee",
   "metadata": {},
   "outputs": [
    {
     "data": {
      "text/plain": [
       "<Figure size 720x720 with 0 Axes>"
      ]
     },
     "metadata": {},
     "output_type": "display_data"
    },
    {
     "data": {
      "image/png": "[encoded data removed]",
      "text/plain": [
       "<Figure size 432x288 with 4 Axes>"
      ]
     },
     "metadata": {
      "needs_background": "light"
     },
     "output_type": "display_data"
    }
   ],
   "source": [
    "result = seasonal_decompose(data['passengers'],model='addictive')\n",
    "plt.figure(figsize=(10,10))\n",
    "result.plot()\n",
    "plt.show()"
   ]
  },
  {
   "cell_type": "code",
   "execution_count": 8,
   "id": "b3d3605a",
   "metadata": {},
   "outputs": [
    {
     "name": "stdout",
     "output_type": "stream",
     "text": [
      "Collecting pmdarima\n",
      "  Downloading pmdarima-2.0.1-cp38-cp38-win_amd64.whl (571 kB)\n",
      "     -------------------------------------- 571.9/571.9 kB 6.0 MB/s eta 0:00:00\n",
      "Requirement already satisfied: numpy>=1.21 in c:\\users\\admin\\anaconda3\\envs\\cakd7\\lib\\site-packages (from pmdarima) (1.23.0)\n",
      "Requirement already satisfied: setuptools!=50.0.0,>=38.6.0 in c:\\users\\admin\\anaconda3\\envs\\cakd7\\lib\\site-packages (from pmdarima) (61.2.0)\n",
      "Collecting Cython!=0.29.18,!=0.29.31,>=0.29\n",
      "  Downloading Cython-0.29.32-py2.py3-none-any.whl (986 kB)\n",
      "     -------------------------------------- 986.3/986.3 kB 7.8 MB/s eta 0:00:00\n",
      "Requirement already satisfied: statsmodels>=0.13.2 in c:\\users\\admin\\anaconda3\\envs\\cakd7\\lib\\site-packages (from pmdarima) (0.13.5)\n",
      "Requirement already satisfied: pandas>=0.19 in c:\\users\\admin\\anaconda3\\envs\\cakd7\\lib\\site-packages (from pmdarima) (1.4.3)\n",
      "Requirement already satisfied: joblib>=0.11 in c:\\users\\admin\\anaconda3\\envs\\cakd7\\lib\\site-packages (from pmdarima) (1.1.0)\n",
      "Requirement already satisfied: urllib3 in c:\\users\\admin\\anaconda3\\envs\\cakd7\\lib\\site-packages (from pmdarima) (1.26.9)\n",
      "Requirement already satisfied: scikit-learn>=0.22 in c:\\users\\admin\\anaconda3\\envs\\cakd7\\lib\\site-packages (from pmdarima) (1.1.2)\n",
      "Requirement already satisfied: scipy>=1.3.2 in c:\\users\\admin\\anaconda3\\envs\\cakd7\\lib\\site-packages (from pmdarima) (1.8.1)\n",
      "Requirement already satisfied: pytz>=2020.1 in c:\\users\\admin\\anaconda3\\envs\\cakd7\\lib\\site-packages (from pandas>=0.19->pmdarima) (2022.1)\n",
      "Requirement already satisfied: python-dateutil>=2.8.1 in c:\\users\\admin\\anaconda3\\envs\\cakd7\\lib\\site-packages (from pandas>=0.19->pmdarima) (2.8.2)\n",
      "Requirement already satisfied: threadpoolctl>=2.0.0 in c:\\users\\admin\\anaconda3\\envs\\cakd7\\lib\\site-packages (from scikit-learn>=0.22->pmdarima) (2.2.0)\n",
      "Requirement already satisfied: patsy>=0.5.2 in c:\\users\\admin\\anaconda3\\envs\\cakd7\\lib\\site-packages (from statsmodels>=0.13.2->pmdarima) (0.5.3)\n",
      "Requirement already satisfied: packaging>=21.3 in c:\\users\\admin\\anaconda3\\envs\\cakd7\\lib\\site-packages (from statsmodels>=0.13.2->pmdarima) (21.3)\n",
      "Requirement already satisfied: pyparsing!=3.0.5,>=2.0.2 in c:\\users\\admin\\anaconda3\\envs\\cakd7\\lib\\site-packages (from packaging>=21.3->statsmodels>=0.13.2->pmdarima) (3.0.9)\n",
      "Requirement already satisfied: six in c:\\users\\admin\\anaconda3\\envs\\cakd7\\lib\\site-packages (from patsy>=0.5.2->statsmodels>=0.13.2->pmdarima) (1.16.0)\n",
      "Installing collected packages: Cython, pmdarima\n",
      "Successfully installed Cython-0.29.32 pmdarima-2.0.1\n"
     ]
    }
   ],
   "source": [
    "!pip install pmdarima"
   ]
  },
  {
   "cell_type": "code",
   "execution_count": null,
   "id": "3e120162",
   "metadata": {},
   "outputs": [],
   "source": [
    "'''\n",
    "model = pm.auto_arima(y = y_train        # 데이터\n",
    "                      , d = 1            # 차분 차수, ndiffs 결과!\n",
    "                      , start_p = 0 \n",
    "                      , max_p = 3   \n",
    "                      , start_q = 0 \n",
    "                      , max_q = 3   \n",
    "                      , m = 1       \n",
    "                      , seasonal = False # 계절성 ARIMA가 아니라면 필수!\n",
    "                      , stepwise = True\n",
    "                      , trace=True\n",
    "                      )\n",
    "'''\n"
   ]
  },
  {
   "cell_type": "markdown",
   "id": "244de395",
   "metadata": {},
   "source": [
    "- y: array 형태의 시계열 자료\n",
    "- d (기본값 = none): 차분의 차수, 이를 지정하지 않으면 실행 기간이 매우 길어질 수 있음\n",
    "- start_p (기본값 = 2), max_p (기본값 = 5): AR(p)를 찾을 범위 (start_p에서 max_p까지 찾는다!)\n",
    "- start_q (기본값 = 2), max_q (기본값 = 5): MA(q)를 찾을 범위 (start_q에서 max_q까지 찾는다!)\n",
    "- m (기본값 = 1): 계절적 차분이 필요할 때 쓸 수 있는 모수로 m=4이면 분기별, m=12면 월별, m=1이면 계절적 특징을 띠지 않는 데이터를 의미한다. m=1이면 자동적으로 seasonal 에 대한 옵션은 False로 지정된다.\n",
    "- seasonal (기본값 = True): 계절성 ARIMA 모형을 적합할지의 여부\n",
    "- stepwise (기본값 = True): 최적의 모수를 찾기 위해 쓰는 힌드만 - 칸다카르 알고리즘을 사용할지의 여부, False면 모든 모수 조합으로 모형을 적합한다.\n",
    "- trace (기본값 = False): stepwise로 모델을 적합할 때마다 결과를 프린트하고 싶을 때 사용한다.\n"
   ]
  },
  {
   "cell_type": "code",
   "execution_count": 10,
   "id": "aea5ae40",
   "metadata": {},
   "outputs": [],
   "source": [
    "train = data.iloc[:len(data)-29]\n",
    "test = data.iloc[len(data)-29:]"
   ]
  },
  {
   "cell_type": "code",
   "execution_count": 11,
   "id": "b1fd7218",
   "metadata": {},
   "outputs": [
    {
     "name": "stdout",
     "output_type": "stream",
     "text": [
      " ARIMA(0,1,0)(0,1,0)[12]             : AIC=757.826, Time=0.64 sec\n",
      " ARIMA(0,1,0)(0,1,1)[12]             : AIC=756.988, Time=0.16 sec\n",
      " ARIMA(0,1,0)(0,1,2)[12]             : AIC=758.826, Time=0.25 sec\n",
      " ARIMA(0,1,0)(0,1,3)[12]             : AIC=758.186, Time=0.28 sec\n",
      " ARIMA(0,1,0)(1,1,0)[12]             : AIC=756.959, Time=0.04 sec\n",
      " ARIMA(0,1,0)(1,1,1)[12]             : AIC=758.922, Time=0.12 sec\n",
      " ARIMA(0,1,0)(1,1,2)[12]             : AIC=inf, Time=0.50 sec\n",
      " ARIMA(0,1,0)(1,1,3)[12]             : AIC=754.685, Time=0.86 sec\n",
      " ARIMA(0,1,0)(2,1,0)[12]             : AIC=758.869, Time=0.10 sec\n",
      " ARIMA(0,1,0)(2,1,1)[12]             : AIC=760.726, Time=0.36 sec\n",
      " ARIMA(0,1,0)(2,1,2)[12]             : AIC=inf, Time=0.83 sec\n",
      " ARIMA(0,1,0)(2,1,3)[12]             : AIC=756.686, Time=1.13 sec\n",
      " ARIMA(0,1,0)(3,1,0)[12]             : AIC=759.643, Time=0.26 sec\n",
      " ARIMA(0,1,0)(3,1,1)[12]             : AIC=inf, Time=1.52 sec\n",
      " ARIMA(0,1,0)(3,1,2)[12]             : AIC=756.688, Time=1.45 sec\n",
      " ARIMA(0,1,1)(0,1,0)[12]             : AIC=756.011, Time=0.03 sec\n",
      " ARIMA(0,1,1)(0,1,1)[12]             : AIC=756.380, Time=0.07 sec\n",
      " ARIMA(0,1,1)(0,1,2)[12]             : AIC=757.653, Time=0.28 sec\n",
      " ARIMA(0,1,1)(0,1,3)[12]             : AIC=756.866, Time=0.35 sec\n",
      " ARIMA(0,1,1)(1,1,0)[12]             : AIC=756.166, Time=0.06 sec\n",
      " ARIMA(0,1,1)(1,1,1)[12]             : AIC=758.107, Time=0.13 sec\n",
      " ARIMA(0,1,1)(1,1,2)[12]             : AIC=inf, Time=0.79 sec\n",
      " ARIMA(0,1,1)(1,1,3)[12]             : AIC=752.982, Time=0.69 sec\n",
      " ARIMA(0,1,1)(2,1,0)[12]             : AIC=757.994, Time=0.13 sec\n",
      " ARIMA(0,1,1)(2,1,1)[12]             : AIC=inf, Time=0.71 sec\n",
      " ARIMA(0,1,1)(2,1,2)[12]             : AIC=inf, Time=nan sec\n",
      " ARIMA(0,1,1)(3,1,0)[12]             : AIC=758.104, Time=0.28 sec\n",
      " ARIMA(0,1,1)(3,1,1)[12]             : AIC=inf, Time=1.75 sec\n",
      " ARIMA(0,1,2)(0,1,0)[12]             : AIC=757.778, Time=0.04 sec\n",
      " ARIMA(0,1,2)(0,1,1)[12]             : AIC=758.043, Time=0.11 sec\n",
      " ARIMA(0,1,2)(0,1,2)[12]             : AIC=759.284, Time=0.32 sec\n",
      " ARIMA(0,1,2)(0,1,3)[12]             : AIC=758.652, Time=0.39 sec\n",
      " ARIMA(0,1,2)(1,1,0)[12]             : AIC=757.811, Time=0.09 sec\n",
      " ARIMA(0,1,2)(1,1,1)[12]             : AIC=759.751, Time=0.14 sec\n",
      " ARIMA(0,1,2)(1,1,2)[12]             : AIC=inf, Time=0.79 sec\n",
      " ARIMA(0,1,2)(2,1,0)[12]             : AIC=759.641, Time=0.16 sec\n",
      " ARIMA(0,1,2)(2,1,1)[12]             : AIC=inf, Time=0.75 sec\n",
      " ARIMA(0,1,2)(3,1,0)[12]             : AIC=759.804, Time=0.34 sec\n",
      " ARIMA(0,1,3)(0,1,0)[12]             : AIC=752.936, Time=0.05 sec\n",
      " ARIMA(0,1,3)(0,1,1)[12]             : AIC=753.809, Time=0.14 sec\n",
      " ARIMA(0,1,3)(0,1,2)[12]             : AIC=755.269, Time=0.53 sec\n",
      " ARIMA(0,1,3)(1,1,0)[12]             : AIC=753.663, Time=0.10 sec\n",
      " ARIMA(0,1,3)(1,1,1)[12]             : AIC=755.497, Time=0.27 sec\n",
      " ARIMA(0,1,3)(2,1,0)[12]             : AIC=755.384, Time=0.21 sec\n",
      " ARIMA(1,1,0)(0,1,0)[12]             : AIC=755.499, Time=0.03 sec\n",
      " ARIMA(1,1,0)(0,1,1)[12]             : AIC=755.982, Time=0.09 sec\n",
      " ARIMA(1,1,0)(0,1,2)[12]             : AIC=757.103, Time=0.25 sec\n",
      " ARIMA(1,1,0)(0,1,3)[12]             : AIC=756.433, Time=0.32 sec\n",
      " ARIMA(1,1,0)(1,1,0)[12]             : AIC=755.750, Time=0.05 sec\n",
      " ARIMA(1,1,0)(1,1,1)[12]             : AIC=757.649, Time=0.10 sec\n",
      " ARIMA(1,1,0)(1,1,2)[12]             : AIC=inf, Time=0.71 sec\n",
      " ARIMA(1,1,0)(1,1,3)[12]             : AIC=752.557, Time=0.87 sec\n",
      " ARIMA(1,1,0)(2,1,0)[12]             : AIC=757.453, Time=0.14 sec\n",
      " ARIMA(1,1,0)(2,1,1)[12]             : AIC=inf, Time=0.79 sec\n",
      " ARIMA(1,1,0)(2,1,2)[12]             : AIC=inf, Time=0.89 sec\n",
      " ARIMA(1,1,0)(3,1,0)[12]             : AIC=757.510, Time=0.26 sec\n",
      " ARIMA(1,1,0)(3,1,1)[12]             : AIC=inf, Time=1.81 sec\n",
      " ARIMA(1,1,1)(0,1,0)[12]             : AIC=756.022, Time=0.06 sec\n",
      " ARIMA(1,1,1)(0,1,1)[12]             : AIC=756.629, Time=0.11 sec\n",
      " ARIMA(1,1,1)(0,1,2)[12]             : AIC=757.749, Time=0.42 sec\n",
      " ARIMA(1,1,1)(0,1,3)[12]             : AIC=757.733, Time=0.62 sec\n",
      " ARIMA(1,1,1)(1,1,0)[12]             : AIC=756.406, Time=0.11 sec\n",
      " ARIMA(1,1,1)(1,1,1)[12]             : AIC=758.260, Time=0.25 sec\n",
      " ARIMA(1,1,1)(1,1,2)[12]             : AIC=inf, Time=0.87 sec\n",
      " ARIMA(1,1,1)(2,1,0)[12]             : AIC=758.031, Time=0.21 sec\n",
      " ARIMA(1,1,1)(2,1,1)[12]             : AIC=inf, Time=1.04 sec\n",
      " ARIMA(1,1,1)(3,1,0)[12]             : AIC=758.462, Time=0.47 sec\n",
      " ARIMA(1,1,2)(0,1,0)[12]             : AIC=757.925, Time=0.07 sec\n",
      " ARIMA(1,1,2)(0,1,1)[12]             : AIC=758.441, Time=0.18 sec\n",
      " ARIMA(1,1,2)(0,1,2)[12]             : AIC=759.634, Time=0.43 sec\n",
      " ARIMA(1,1,2)(1,1,0)[12]             : AIC=758.220, Time=0.12 sec\n",
      " ARIMA(1,1,2)(1,1,1)[12]             : AIC=760.100, Time=0.26 sec\n",
      " ARIMA(1,1,2)(2,1,0)[12]             : AIC=759.915, Time=0.23 sec\n",
      " ARIMA(1,1,3)(0,1,0)[12]             : AIC=754.178, Time=0.21 sec\n",
      " ARIMA(1,1,3)(0,1,1)[12]             : AIC=753.995, Time=0.29 sec\n",
      " ARIMA(1,1,3)(1,1,0)[12]             : AIC=753.975, Time=0.31 sec\n",
      " ARIMA(2,1,0)(0,1,0)[12]             : AIC=756.771, Time=0.06 sec\n",
      " ARIMA(2,1,0)(0,1,1)[12]             : AIC=757.226, Time=0.10 sec\n",
      " ARIMA(2,1,0)(0,1,2)[12]             : AIC=758.313, Time=0.31 sec\n",
      " ARIMA(2,1,0)(0,1,3)[12]             : AIC=758.011, Time=0.38 sec\n",
      " ARIMA(2,1,0)(1,1,0)[12]             : AIC=756.982, Time=0.07 sec\n",
      " ARIMA(2,1,0)(1,1,1)[12]             : AIC=758.859, Time=0.14 sec\n",
      " ARIMA(2,1,0)(1,1,2)[12]             : AIC=inf, Time=0.86 sec\n",
      " ARIMA(2,1,0)(2,1,0)[12]             : AIC=758.650, Time=0.16 sec\n",
      " ARIMA(2,1,0)(2,1,1)[12]             : AIC=inf, Time=0.80 sec\n",
      " ARIMA(2,1,0)(3,1,0)[12]             : AIC=758.903, Time=0.31 sec\n",
      " ARIMA(2,1,1)(0,1,0)[12]             : AIC=757.976, Time=0.06 sec\n",
      " ARIMA(2,1,1)(0,1,1)[12]             : AIC=758.537, Time=0.20 sec\n",
      " ARIMA(2,1,1)(0,1,2)[12]             : AIC=759.694, Time=0.52 sec\n",
      " ARIMA(2,1,1)(1,1,0)[12]             : AIC=758.314, Time=0.15 sec\n",
      " ARIMA(2,1,1)(1,1,1)[12]             : AIC=760.183, Time=0.24 sec\n",
      " ARIMA(2,1,1)(2,1,0)[12]             : AIC=759.976, Time=0.28 sec\n",
      " ARIMA(2,1,2)(0,1,0)[12]             : AIC=755.201, Time=0.14 sec\n",
      " ARIMA(2,1,2)(0,1,1)[12]             : AIC=755.987, Time=0.25 sec\n",
      " ARIMA(2,1,2)(1,1,0)[12]             : AIC=755.821, Time=0.27 sec\n",
      " ARIMA(2,1,3)(0,1,0)[12]             : AIC=755.253, Time=0.27 sec\n",
      " ARIMA(3,1,0)(0,1,0)[12]             : AIC=755.605, Time=0.05 sec\n",
      " ARIMA(3,1,0)(0,1,1)[12]             : AIC=756.424, Time=0.10 sec\n",
      " ARIMA(3,1,0)(0,1,2)[12]             : AIC=757.829, Time=0.40 sec\n",
      " ARIMA(3,1,0)(1,1,0)[12]             : AIC=756.268, Time=0.08 sec\n",
      " ARIMA(3,1,0)(1,1,1)[12]             : AIC=758.159, Time=0.20 sec\n",
      " ARIMA(3,1,0)(2,1,0)[12]             : AIC=758.003, Time=0.20 sec\n",
      " ARIMA(3,1,1)(0,1,0)[12]             : AIC=754.435, Time=0.14 sec\n",
      " ARIMA(3,1,1)(0,1,1)[12]             : AIC=754.694, Time=0.23 sec\n",
      " ARIMA(3,1,1)(1,1,0)[12]             : AIC=754.571, Time=0.23 sec\n",
      " ARIMA(3,1,2)(0,1,0)[12]             : AIC=inf, Time=0.29 sec\n",
      "\n",
      "Best model:  ARIMA(1,1,0)(1,1,3)[12]          \n",
      "Total fit time: 38.722 seconds\n"
     ]
    },
    {
     "data": {
      "text/html": [
       "<table class=\"simpletable\">\n",
       "<caption>SARIMAX Results</caption>\n",
       "<tr>\n",
       "  <th>Dep. Variable:</th>                      <td>y</td>                   <th>  No. Observations:  </th>    <td>115</td>  \n",
       "</tr>\n",
       "<tr>\n",
       "  <th>Model:</th>           <td>SARIMAX(1, 1, 0)x(1, 1, [1, 2, 3], 12)</td> <th>  Log Likelihood     </th> <td>-370.278</td>\n",
       "</tr>\n",
       "<tr>\n",
       "  <th>Date:</th>                       <td>Fri, 11 Nov 2022</td>            <th>  AIC                </th>  <td>752.557</td>\n",
       "</tr>\n",
       "<tr>\n",
       "  <th>Time:</th>                           <td>17:07:29</td>                <th>  BIC                </th>  <td>768.307</td>\n",
       "</tr>\n",
       "<tr>\n",
       "  <th>Sample:</th>                        <td>01-01-1949</td>               <th>  HQIC               </th>  <td>758.934</td>\n",
       "</tr>\n",
       "<tr>\n",
       "  <th></th>                              <td>- 07-01-1958</td>              <th>                     </th>     <td> </td>   \n",
       "</tr>\n",
       "<tr>\n",
       "  <th>Covariance Type:</th>                   <td>opg</td>                  <th>                     </th>     <td> </td>   \n",
       "</tr>\n",
       "</table>\n",
       "<table class=\"simpletable\">\n",
       "<tr>\n",
       "      <td></td>        <th>coef</th>     <th>std err</th>      <th>z</th>      <th>P>|z|</th>  <th>[0.025</th>    <th>0.975]</th>  \n",
       "</tr>\n",
       "<tr>\n",
       "  <th>ar.L1</th>    <td>   -0.2218</td> <td>    0.093</td> <td>   -2.388</td> <td> 0.017</td> <td>   -0.404</td> <td>   -0.040</td>\n",
       "</tr>\n",
       "<tr>\n",
       "  <th>ar.S.L12</th> <td>    0.9288</td> <td>    0.275</td> <td>    3.374</td> <td> 0.001</td> <td>    0.389</td> <td>    1.468</td>\n",
       "</tr>\n",
       "<tr>\n",
       "  <th>ma.S.L12</th> <td>   -1.2065</td> <td>    0.448</td> <td>   -2.692</td> <td> 0.007</td> <td>   -2.085</td> <td>   -0.328</td>\n",
       "</tr>\n",
       "<tr>\n",
       "  <th>ma.S.L24</th> <td>    0.2771</td> <td>    0.174</td> <td>    1.596</td> <td> 0.111</td> <td>   -0.063</td> <td>    0.618</td>\n",
       "</tr>\n",
       "<tr>\n",
       "  <th>ma.S.L36</th> <td>    0.1251</td> <td>    0.164</td> <td>    0.765</td> <td> 0.444</td> <td>   -0.195</td> <td>    0.446</td>\n",
       "</tr>\n",
       "<tr>\n",
       "  <th>sigma2</th>   <td>   75.0386</td> <td>   19.073</td> <td>    3.934</td> <td> 0.000</td> <td>   37.656</td> <td>  112.421</td>\n",
       "</tr>\n",
       "</table>\n",
       "<table class=\"simpletable\">\n",
       "<tr>\n",
       "  <th>Ljung-Box (L1) (Q):</th>     <td>0.01</td> <th>  Jarque-Bera (JB):  </th> <td>2.50</td>\n",
       "</tr>\n",
       "<tr>\n",
       "  <th>Prob(Q):</th>                <td>0.91</td> <th>  Prob(JB):          </th> <td>0.29</td>\n",
       "</tr>\n",
       "<tr>\n",
       "  <th>Heteroskedasticity (H):</th> <td>1.05</td> <th>  Skew:              </th> <td>0.37</td>\n",
       "</tr>\n",
       "<tr>\n",
       "  <th>Prob(H) (two-sided):</th>    <td>0.90</td> <th>  Kurtosis:          </th> <td>2.81</td>\n",
       "</tr>\n",
       "</table><br/><br/>Warnings:<br/>[1] Covariance matrix calculated using the outer product of gradients (complex-step)."
      ],
      "text/plain": [
       "<class 'statsmodels.iolib.summary.Summary'>\n",
       "\"\"\"\n",
       "                                         SARIMAX Results                                          \n",
       "==================================================================================================\n",
       "Dep. Variable:                                          y   No. Observations:                  115\n",
       "Model:             SARIMAX(1, 1, 0)x(1, 1, [1, 2, 3], 12)   Log Likelihood                -370.278\n",
       "Date:                                    Fri, 11 Nov 2022   AIC                            752.557\n",
       "Time:                                            17:07:29   BIC                            768.307\n",
       "Sample:                                        01-01-1949   HQIC                           758.934\n",
       "                                             - 07-01-1958                                         \n",
       "Covariance Type:                                      opg                                         \n",
       "==============================================================================\n",
       "                 coef    std err          z      P>|z|      [0.025      0.975]\n",
       "------------------------------------------------------------------------------\n",
       "ar.L1         -0.2218      0.093     -2.388      0.017      -0.404      -0.040\n",
       "ar.S.L12       0.9288      0.275      3.374      0.001       0.389       1.468\n",
       "ma.S.L12      -1.2065      0.448     -2.692      0.007      -2.085      -0.328\n",
       "ma.S.L24       0.2771      0.174      1.596      0.111      -0.063       0.618\n",
       "ma.S.L36       0.1251      0.164      0.765      0.444      -0.195       0.446\n",
       "sigma2        75.0386     19.073      3.934      0.000      37.656     112.421\n",
       "===================================================================================\n",
       "Ljung-Box (L1) (Q):                   0.01   Jarque-Bera (JB):                 2.50\n",
       "Prob(Q):                              0.91   Prob(JB):                         0.29\n",
       "Heteroskedasticity (H):               1.05   Skew:                             0.37\n",
       "Prob(H) (two-sided):                  0.90   Kurtosis:                         2.81\n",
       "===================================================================================\n",
       "\n",
       "Warnings:\n",
       "[1] Covariance matrix calculated using the outer product of gradients (complex-step).\n",
       "\"\"\""
      ]
     },
     "execution_count": 11,
     "metadata": {},
     "output_type": "execute_result"
    }
   ],
   "source": [
    "from pmdarima import auto_arima\n",
    "\n",
    "auto_arima_model = auto_arima(train, start_p=1,start_q=1,\n",
    "                             max_p=3, max_q=3,m=12,\n",
    "                             start_P = 1, start_Q = 1, max_P=3, max_Q=3,\n",
    "                             seasonal = True, d=1, D=1, trace=True,\n",
    "                             error_action = 'ignore',\n",
    "                             suppress_warning=True, stepwise=False)\n",
    "auto_arima_model.summary()"
   ]
  },
  {
   "cell_type": "code",
   "execution_count": 13,
   "id": "f5b268d6",
   "metadata": {},
   "outputs": [
    {
     "data": {
      "text/html": [
       "<table class=\"simpletable\">\n",
       "<caption>SARIMAX Results</caption>\n",
       "<tr>\n",
       "  <th>Dep. Variable:</th>               <td>passengers</td>              <th>  No. Observations:  </th>    <td>115</td>  \n",
       "</tr>\n",
       "<tr>\n",
       "  <th>Model:</th>           <td>SARIMAX(1, 1, 0)x(1, 1, [1, 2], 12)</td> <th>  Log Likelihood     </th> <td>-370.574</td>\n",
       "</tr>\n",
       "<tr>\n",
       "  <th>Date:</th>                     <td>Fri, 11 Nov 2022</td>           <th>  AIC                </th>  <td>751.148</td>\n",
       "</tr>\n",
       "<tr>\n",
       "  <th>Time:</th>                         <td>17:12:02</td>               <th>  BIC                </th>  <td>764.273</td>\n",
       "</tr>\n",
       "<tr>\n",
       "  <th>Sample:</th>                      <td>01-01-1949</td>              <th>  HQIC               </th>  <td>756.462</td>\n",
       "</tr>\n",
       "<tr>\n",
       "  <th></th>                            <td>- 07-01-1958</td>             <th>                     </th>     <td> </td>   \n",
       "</tr>\n",
       "<tr>\n",
       "  <th>Covariance Type:</th>                 <td>opg</td>                 <th>                     </th>     <td> </td>   \n",
       "</tr>\n",
       "</table>\n",
       "<table class=\"simpletable\">\n",
       "<tr>\n",
       "      <td></td>        <th>coef</th>     <th>std err</th>      <th>z</th>      <th>P>|z|</th>  <th>[0.025</th>    <th>0.975]</th>  \n",
       "</tr>\n",
       "<tr>\n",
       "  <th>ar.L1</th>    <td>   -0.2366</td> <td>    0.093</td> <td>   -2.538</td> <td> 0.011</td> <td>   -0.419</td> <td>   -0.054</td>\n",
       "</tr>\n",
       "<tr>\n",
       "  <th>ar.S.L12</th> <td>    0.9988</td> <td>    0.187</td> <td>    5.351</td> <td> 0.000</td> <td>    0.633</td> <td>    1.365</td>\n",
       "</tr>\n",
       "<tr>\n",
       "  <th>ma.S.L12</th> <td>   -1.3723</td> <td>    2.642</td> <td>   -0.519</td> <td> 0.603</td> <td>   -6.550</td> <td>    3.805</td>\n",
       "</tr>\n",
       "<tr>\n",
       "  <th>ma.S.L24</th> <td>    0.3948</td> <td>    0.951</td> <td>    0.415</td> <td> 0.678</td> <td>   -1.470</td> <td>    2.259</td>\n",
       "</tr>\n",
       "<tr>\n",
       "  <th>sigma2</th>   <td>   69.6780</td> <td>  171.957</td> <td>    0.405</td> <td> 0.685</td> <td> -267.352</td> <td>  406.708</td>\n",
       "</tr>\n",
       "</table>\n",
       "<table class=\"simpletable\">\n",
       "<tr>\n",
       "  <th>Ljung-Box (L1) (Q):</th>     <td>0.02</td> <th>  Jarque-Bera (JB):  </th> <td>2.76</td>\n",
       "</tr>\n",
       "<tr>\n",
       "  <th>Prob(Q):</th>                <td>0.88</td> <th>  Prob(JB):          </th> <td>0.25</td>\n",
       "</tr>\n",
       "<tr>\n",
       "  <th>Heteroskedasticity (H):</th> <td>1.10</td> <th>  Skew:              </th> <td>0.38</td>\n",
       "</tr>\n",
       "<tr>\n",
       "  <th>Prob(H) (two-sided):</th>    <td>0.79</td> <th>  Kurtosis:          </th> <td>2.72</td>\n",
       "</tr>\n",
       "</table><br/><br/>Warnings:<br/>[1] Covariance matrix calculated using the outer product of gradients (complex-step)."
      ],
      "text/plain": [
       "<class 'statsmodels.iolib.summary.Summary'>\n",
       "\"\"\"\n",
       "                                        SARIMAX Results                                        \n",
       "===============================================================================================\n",
       "Dep. Variable:                              passengers   No. Observations:                  115\n",
       "Model:             SARIMAX(1, 1, 0)x(1, 1, [1, 2], 12)   Log Likelihood                -370.574\n",
       "Date:                                 Fri, 11 Nov 2022   AIC                            751.148\n",
       "Time:                                         17:12:02   BIC                            764.273\n",
       "Sample:                                     01-01-1949   HQIC                           756.462\n",
       "                                          - 07-01-1958                                         \n",
       "Covariance Type:                                   opg                                         \n",
       "==============================================================================\n",
       "                 coef    std err          z      P>|z|      [0.025      0.975]\n",
       "------------------------------------------------------------------------------\n",
       "ar.L1         -0.2366      0.093     -2.538      0.011      -0.419      -0.054\n",
       "ar.S.L12       0.9988      0.187      5.351      0.000       0.633       1.365\n",
       "ma.S.L12      -1.3723      2.642     -0.519      0.603      -6.550       3.805\n",
       "ma.S.L24       0.3948      0.951      0.415      0.678      -1.470       2.259\n",
       "sigma2        69.6780    171.957      0.405      0.685    -267.352     406.708\n",
       "===================================================================================\n",
       "Ljung-Box (L1) (Q):                   0.02   Jarque-Bera (JB):                 2.76\n",
       "Prob(Q):                              0.88   Prob(JB):                         0.25\n",
       "Heteroskedasticity (H):               1.10   Skew:                             0.38\n",
       "Prob(H) (two-sided):                  0.79   Kurtosis:                         2.72\n",
       "===================================================================================\n",
       "\n",
       "Warnings:\n",
       "[1] Covariance matrix calculated using the outer product of gradients (complex-step).\n",
       "\"\"\""
      ]
     },
     "execution_count": 13,
     "metadata": {},
     "output_type": "execute_result"
    }
   ],
   "source": [
    "from statsmodels.tsa.statespace.sarimax import SARIMAX\n",
    "import warnings;warnings.filterwarnings('ignore')\n",
    "\n",
    "model = SARIMAX(train['passengers'],\n",
    "               order = (1,1,0),\n",
    "               seasonal_order=(1,1,2,12))\n",
    "result = model.fit()\n",
    "result.summary()"
   ]
  },
  {
   "cell_type": "code",
   "execution_count": 14,
   "id": "7dba23eb",
   "metadata": {},
   "outputs": [
    {
     "data": {
      "text/plain": [
       "<AxesSubplot:xlabel='Month'>"
      ]
     },
     "execution_count": 14,
     "metadata": {},
     "output_type": "execute_result"
    },
    {
     "data": {
      "image/png": "[encoded data removed]",
      "text/plain": [
       "<Figure size 432x288 with 1 Axes>"
      ]
     },
     "metadata": {
      "needs_background": "light"
     },
     "output_type": "display_data"
    }
   ],
   "source": [
    "start = len(train)\n",
    "end = len(train) + len(test) - 1\n",
    "predictions = result.predict(start,end,typ='levels').rename('Prediction')\n",
    "\n",
    "predictions.plot(legend=True)\n",
    "test['passengers'].plot(legend=True)"
   ]
  },
  {
   "cell_type": "code",
   "execution_count": 15,
   "id": "59ae3a8b",
   "metadata": {},
   "outputs": [
    {
     "name": "stdout",
     "output_type": "stream",
     "text": [
      "rmse: 25.941766752086664\n",
      "mse: 672.9752622196692\n"
     ]
    }
   ],
   "source": [
    "from sklearn.metrics import mean_squared_error\n",
    "from statsmodels.tools.eval_measures import rmse\n",
    "print('rmse:', rmse(test.passengers,predictions))\n",
    "print('mse:', mean_squared_error(test.passengers,predictions))"
   ]
  },
  {
   "cell_type": "code",
   "execution_count": 16,
   "id": "ad095f79",
   "metadata": {},
   "outputs": [
    {
     "data": {
      "text/plain": [
       "<AxesSubplot:xlabel='Month'>"
      ]
     },
     "execution_count": 16,
     "metadata": {},
     "output_type": "execute_result"
    },
    {
     "data": {
      "image/png": "[encoded data removed]",
      "text/plain": [
       "<Figure size 864x360 with 1 Axes>"
      ]
     },
     "metadata": {
      "needs_background": "light"
     },
     "output_type": "display_data"
    }
   ],
   "source": [
    "# 3년간 예측\n",
    "\n",
    "model = SARIMAX(data.passengers, order=(1,1,0), seasonal_order=(1,1,2,12))\n",
    "result = model.fit()\n",
    "forecast = result.predict(start=len(data),end=(len(data)-1)+3*12,\n",
    "                         typ = 'level').rename('Forecast')\n",
    "data.passengers.plot(figsize=(12,5),legend=True)\n",
    "forecast.plot(legend=True)"
   ]
  },
  {
   "cell_type": "code",
   "execution_count": 17,
   "id": "5b311518",
   "metadata": {},
   "outputs": [
    {
     "data": {
      "text/plain": [
       "1961-01-01    446.98\n",
       "1961-02-01    420.18\n",
       "1961-03-01    461.63\n",
       "1961-04-01    488.15\n",
       "1961-05-01    505.06\n",
       "1961-06-01    571.86\n",
       "1961-07-01    660.18\n",
       "1961-08-01    653.17\n",
       "1961-09-01    546.00\n",
       "1961-10-01    493.00\n",
       "1961-11-01    425.53\n",
       "1961-12-01    468.91\n",
       "1962-01-01    485.15\n",
       "1962-02-01    455.80\n",
       "1962-03-01    498.36\n",
       "1962-04-01    528.21\n",
       "1962-05-01    546.72\n",
       "1962-06-01    616.85\n",
       "1962-07-01    710.99\n",
       "1962-08-01    703.17\n",
       "1962-09-01    588.93\n",
       "1962-10-01    533.78\n",
       "1962-11-01    462.23\n",
       "1962-12-01    507.48\n",
       "1963-01-01    524.78\n",
       "1963-02-01    493.00\n",
       "1963-03-01    536.61\n",
       "1963-04-01    569.75\n",
       "1963-05-01    589.81\n",
       "1963-06-01    663.22\n",
       "1963-07-01    763.08\n",
       "1963-08-01    754.46\n",
       "1963-09-01    633.30\n",
       "1963-10-01    576.03\n",
       "1963-11-01    500.47\n",
       "1963-12-01    547.56\n",
       "Freq: MS, Name: Forecast, dtype: float64"
      ]
     },
     "execution_count": 17,
     "metadata": {},
     "output_type": "execute_result"
    }
   ],
   "source": [
    "np.round(forecast,2)"
   ]
  }
 ],
 "metadata": {
  "kernelspec": {
   "display_name": "Python 3 (ipykernel)",
   "language": "python",
   "name": "python3"
  },
  "language_info": {
   "codemirror_mode": {
    "name": "ipython",
    "version": 3
   },
   "file_extension": ".py",
   "mimetype": "text/x-python",
   "name": "python",
   "nbconvert_exporter": "python",
   "pygments_lexer": "ipython3",
   "version": "3.8.13"
  }
 },
 "nbformat": 4,
 "nbformat_minor": 5
}
