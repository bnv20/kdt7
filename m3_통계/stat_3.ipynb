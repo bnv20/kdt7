{
 "cells": [
  {
   "cell_type": "markdown",
   "id": "de0576b6",
   "metadata": {},
   "source": [
    "## 통계적 추정"
   ]
  },
  {
   "cell_type": "code",
   "execution_count": 1,
   "id": "3db4c6bb",
   "metadata": {},
   "outputs": [
    {
     "data": {
      "text/plain": [
       "'%.3f'"
      ]
     },
     "execution_count": 1,
     "metadata": {},
     "output_type": "execute_result"
    }
   ],
   "source": [
    "import numpy as np\n",
    "import pandas as pd\n",
    "import matplotlib.pyplot as plt\n",
    "from scipy import stats\n",
    "\n",
    "%precision 3"
   ]
  },
  {
   "cell_type": "code",
   "execution_count": 3,
   "id": "459aaafd",
   "metadata": {},
   "outputs": [
    {
     "name": "stdout",
     "output_type": "stream",
     "text": [
      "   score\n",
      "0     76\n",
      "1     55\n",
      "2     80\n",
      "3     80\n",
      "4     74\n"
     ]
    },
    {
     "data": {
      "text/plain": [
       "(400, 1)"
      ]
     },
     "execution_count": 3,
     "metadata": {},
     "output_type": "execute_result"
    }
   ],
   "source": [
    "df = pd.read_csv('data/ch4_scores400.csv')\n",
    "print(df.head())\n",
    "scores = np.array(df['score'])\n",
    "df.shape"
   ]
  },
  {
   "cell_type": "code",
   "execution_count": 4,
   "id": "86ed0e2a",
   "metadata": {},
   "outputs": [
    {
     "data": {
      "text/plain": [
       "(69.530, 206.669)"
      ]
     },
     "execution_count": 4,
     "metadata": {},
     "output_type": "execute_result"
    }
   ],
   "source": [
    "# 모평균, 모분산\n",
    "p_mean = np.mean(scores)\n",
    "p_var = np.var(scores)\n",
    "p_mean, p_var"
   ]
  },
  {
   "cell_type": "code",
   "execution_count": 6,
   "id": "89a1510a",
   "metadata": {},
   "outputs": [
    {
     "data": {
      "text/plain": [
       "(array([0.   , 0.   , 0.   , 0.   , 0.   , 0.   , 0.   , 0.   , 0.   ,\n",
       "        0.   , 0.   , 0.   , 0.   , 0.   , 0.   , 0.   , 0.   , 0.   ,\n",
       "        0.   , 0.   , 0.   , 0.   , 0.   , 0.003, 0.   , 0.   , 0.   ,\n",
       "        0.   , 0.003, 0.003, 0.   , 0.003, 0.   , 0.   , 0.003, 0.   ,\n",
       "        0.   , 0.   , 0.003, 0.   , 0.003, 0.005, 0.007, 0.007, 0.   ,\n",
       "        0.013, 0.013, 0.007, 0.005, 0.015, 0.01 , 0.   , 0.022, 0.003,\n",
       "        0.02 , 0.025, 0.02 , 0.025, 0.02 , 0.013, 0.015, 0.033, 0.015,\n",
       "        0.035, 0.022, 0.02 , 0.015, 0.033, 0.04 , 0.028, 0.025, 0.018,\n",
       "        0.022, 0.02 , 0.025, 0.018, 0.035, 0.025, 0.033, 0.025, 0.025,\n",
       "        0.02 , 0.018, 0.022, 0.007, 0.015, 0.022, 0.013, 0.005, 0.007,\n",
       "        0.013, 0.02 , 0.015, 0.01 , 0.007, 0.   , 0.013, 0.005, 0.003,\n",
       "        0.013]),\n",
       " array([  0.,   1.,   2.,   3.,   4.,   5.,   6.,   7.,   8.,   9.,  10.,\n",
       "         11.,  12.,  13.,  14.,  15.,  16.,  17.,  18.,  19.,  20.,  21.,\n",
       "         22.,  23.,  24.,  25.,  26.,  27.,  28.,  29.,  30.,  31.,  32.,\n",
       "         33.,  34.,  35.,  36.,  37.,  38.,  39.,  40.,  41.,  42.,  43.,\n",
       "         44.,  45.,  46.,  47.,  48.,  49.,  50.,  51.,  52.,  53.,  54.,\n",
       "         55.,  56.,  57.,  58.,  59.,  60.,  61.,  62.,  63.,  64.,  65.,\n",
       "         66.,  67.,  68.,  69.,  70.,  71.,  72.,  73.,  74.,  75.,  76.,\n",
       "         77.,  78.,  79.,  80.,  81.,  82.,  83.,  84.,  85.,  86.,  87.,\n",
       "         88.,  89.,  90.,  91.,  92.,  93.,  94.,  95.,  96.,  97.,  98.,\n",
       "         99., 100.]),\n",
       " <BarContainer object of 100 artists>)"
      ]
     },
     "execution_count": 6,
     "metadata": {},
     "output_type": "execute_result"
    },
    {
     "data": {
      "image/png": "[encoded data removed]",
      "text/plain": [
       "<Figure size 720x432 with 1 Axes>"
      ]
     },
     "metadata": {
      "needs_background": "light"
     },
     "output_type": "display_data"
    }
   ],
   "source": [
    "# 모집단이 정규분포를 이룬다고 가정하여 추정 수행\n",
    "plt.figure(figsize=(10,6))\n",
    "xs = np.arange(101)\n",
    "rv = stats.norm(p_mean,np.sqrt(p_var))\n",
    "\n",
    "plt.plot(xs,rv.pdf(xs),color='gray')\n",
    "plt.hist(scores,bins=100,range=(0,100),density=True)"
   ]
  },
  {
   "cell_type": "code",
   "execution_count": 7,
   "id": "26cecce6",
   "metadata": {},
   "outputs": [
    {
     "data": {
      "text/plain": [
       "array([49, 60, 72, 86, 52, 61, 77, 91, 80, 56, 69, 67, 90, 56, 75, 79, 60,\n",
       "       79, 68, 81], dtype=int64)"
      ]
     },
     "execution_count": 7,
     "metadata": {},
     "output_type": "execute_result"
    }
   ],
   "source": [
    "# A학생이 무작위 추출한 표본 크기가 20인 표본\n",
    "np.random.seed(0)\n",
    "n=20\n",
    "sample = np.random.choice(scores,n)\n",
    "sample"
   ]
  },
  {
   "cell_type": "code",
   "execution_count": 9,
   "id": "67d9fcff",
   "metadata": {},
   "outputs": [],
   "source": [
    "# 표본크기가 20인 표본 10000개 추출\n",
    "np.random.seed(1111)\n",
    "n = 20\n",
    "n_samples = 10000\n",
    "samples = np.random.choice(scores, (n_samples,n))"
   ]
  },
  {
   "cell_type": "markdown",
   "id": "0447facf",
   "metadata": {},
   "source": [
    "## 점추정\n",
    "- 모평균이나 모분산 등의 모수를 하나의 수치로 추정\n",
    "- 추정량의 기댓값이 추측하려는 모수가 되는 성질을 불편성이라고 하며 불편성을 가진 추정량을 불편추정량이라고 한다.\n",
    "- 표본평균이 모평균을 잘 추정할 수 있는 근거 중 하나가 바로 이 불편성이다.\n",
    "- 표본크기 n을 증가시키면 추측하기 원하는 모수에 수렴해가는 성질을 일치성이라고 하며 일치성을 지닌 추정량을 일치추정량이라고 함\n",
    "- 표본평균은 불편성과 일치성을 모두 가지고 있기 때문에 모평균을 잘 추정한다고 말할 수 있다.\n"
   ]
  },
  {
   "cell_type": "code",
   "execution_count": 12,
   "id": "fa6d64e9",
   "metadata": {},
   "outputs": [
    {
     "name": "stdout",
     "output_type": "stream",
     "text": [
      "모평균: 69.53\n",
      "모분산: 207.18706766917293\n",
      "표본평균, 분산 : 69.53799999999998 206.67808263157895\n"
     ]
    }
   ],
   "source": [
    "df = pd.read_csv('data/ch4_scores400.csv')\n",
    "print('모평균:', df.score.mean())\n",
    "\n",
    "np.random.seed(1111)\n",
    "n = 20\n",
    "n_samples = 10000\n",
    "samples = np.random.choice(scores, (n_samples,n))\n",
    "\n",
    "sample_means = np.mean(samples,axis=1)\n",
    "\n",
    "print('모분산:', df.score.var())\n",
    "sample_u_vars = np.var(samples, axis=1, ddof=1)\n",
    "print('표본평균, 분산 :', np.mean(sample_means), np.mean(sample_u_vars))"
   ]
  },
  {
   "cell_type": "code",
   "execution_count": 13,
   "id": "cf936687",
   "metadata": {},
   "outputs": [
    {
     "data": {
      "text/plain": [
       "69.538"
      ]
     },
     "execution_count": 13,
     "metadata": {},
     "output_type": "execute_result"
    }
   ],
   "source": [
    "# 표본평균의 평균\n",
    "sample_means = np.mean(samples,axis=1)\n",
    "np.mean(sample_means)"
   ]
  },
  {
   "cell_type": "code",
   "execution_count": 14,
   "id": "3cb35837",
   "metadata": {},
   "outputs": [
    {
     "data": {
      "text/plain": [
       "69.543"
      ]
     },
     "execution_count": 14,
     "metadata": {},
     "output_type": "execute_result"
    }
   ],
   "source": [
    "# 표본크기를 백만으로 할 때의 표본평균\n",
    "np.mean(np.random.choice(scores,int(1e6)))"
   ]
  },
  {
   "cell_type": "code",
   "execution_count": 16,
   "id": "fcb509b7",
   "metadata": {},
   "outputs": [
    {
     "data": {
      "text/plain": [
       "70.400"
      ]
     },
     "execution_count": 16,
     "metadata": {},
     "output_type": "execute_result"
    }
   ],
   "source": [
    "# A학생이 추출한 표본의 표본평균\n",
    "np.random.seed(0)\n",
    "n=20\n",
    "sample = np.random.choice(scores,n)\n",
    "s_mean = np.mean(sample)\n",
    "s_mean"
   ]
  },
  {
   "cell_type": "code",
   "execution_count": 17,
   "id": "bc0a972c",
   "metadata": {},
   "outputs": [
    {
     "data": {
      "text/plain": [
       "206.669"
      ]
     },
     "execution_count": 17,
     "metadata": {},
     "output_type": "execute_result"
    }
   ],
   "source": [
    "np.var(scores)"
   ]
  },
  {
   "cell_type": "markdown",
   "id": "3ac27f5e",
   "metadata": {},
   "source": [
    "#### 과제_0905_1\n",
    "p266~p291 예제 코드를 풀어보세요"
   ]
  },
  {
   "cell_type": "markdown",
   "id": "3a6674d4",
   "metadata": {},
   "source": [
    "#### 과제_0905_2\n",
    "- 다음 용어를 예를들어 설명하세요.\n",
    "  불편성, 일치성, 불편분산<br> \n",
    "- 카이제곱분포, t분포가 구간 추정에 활용된 사례를 만들어 설명하세요."
   ]
  }
 ],
 "metadata": {
  "kernelspec": {
   "display_name": "Python 3 (ipykernel)",
   "language": "python",
   "name": "python3"
  },
  "language_info": {
   "codemirror_mode": {
    "name": "ipython",
    "version": 3
   },
   "file_extension": ".py",
   "mimetype": "text/x-python",
   "name": "python",
   "nbconvert_exporter": "python",
   "pygments_lexer": "ipython3",
   "version": "3.8.13"
  }
 },
 "nbformat": 4,
 "nbformat_minor": 5
}
