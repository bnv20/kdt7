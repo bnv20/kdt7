{
 "cells": [
  {
   "cell_type": "markdown",
   "id": "eae12c43",
   "metadata": {},
   "source": [
    "## 연속형 확률변수\n",
    "이산형 확률변수와 연속형 확률변수의 주된 차이는 확률변수가 취할 수 있는 값이 이산적인가 연속적인가이다. 연속형 확률변수의 경우 계산 과정에 적분이 포함된다. 적분은 SciPy의 integral 모듈을 사용하여 구현함\n"
   ]
  },
  {
   "cell_type": "code",
   "execution_count": 6,
   "id": "2d98223a",
   "metadata": {},
   "outputs": [
    {
     "data": {
      "text/plain": [
       "'%.3f'"
      ]
     },
     "execution_count": 6,
     "metadata": {},
     "output_type": "execute_result"
    }
   ],
   "source": [
    "import numpy as np\n",
    "import matplotlib.pyplot as plt\n",
    "import warnings\n",
    "warnings.filterwarnings('ignore')\n",
    "\n",
    "%precision 3"
   ]
  },
  {
   "cell_type": "markdown",
   "id": "a90d6fe4",
   "metadata": {},
   "source": [
    "## 미적분 관계\n",
    "\n",
    "- 총효용과 한계효용간의 관계를 미적분으로 설명할 수 있다.\n",
    "- 총효용곡선의 특정 x에 대한 y값은 한계효용곡선의 하방면적과 같고 한계효용곡선의 특정 x에 대한 y값은 총효용곡선의 x에서의 기울기와 같다.\n",
    "\n",
    "<img src = '미적분관계1.jpg' STYLE='width 100px;'>\n",
    "<img src = '미적분관계3.jpg' STYLE='width 100px;'>\n"
   ]
  },
  {
   "cell_type": "code",
   "execution_count": 7,
   "id": "72f86f7c",
   "metadata": {},
   "outputs": [
    {
     "data": {
      "image/png": "[encoded data removed]",
      "text/plain": [
       "<Figure size 360x360 with 1 Axes>"
      ]
     },
     "metadata": {
      "needs_background": "light"
     },
     "output_type": "display_data"
    }
   ],
   "source": [
    "def f(x):\n",
    "    return(x**2)\n",
    "def g(x):\n",
    "    return(2*x -1)\n",
    "\n",
    "# x가 1일때의 접선의 방정식 2x -1, 기울기는 1\n",
    "x = np.linspace(-3, 3, 100)\n",
    "fig = plt.figure(figsize=(5,5))\n",
    "plt.scatter([1],[1],c='k')\n",
    "plt.plot(x, f(x), 'b-', lw=1, c='k')\n",
    "plt.plot(x, g(x), 'b-', lw=1, c='b')\n",
    "plt.plot([x.min(), x.max()], [0, 0], lw=2, c='k')\n",
    "plt.plot([0, 0], [g(x).min(), f(x).max()], lw=2, c='k')\n",
    "plt.ylim(-1, 3)\n",
    "plt.xlim(-2, 2)\n",
    "plt.grid(lw=1)\n",
    "# plt.tick_params(labelbottom=False, labelleft=False, labelright=False, labeltop=False)\n",
    "plt.tick_params(color='white')\n",
    "plt.show()\n"
   ]
  },
  {
   "cell_type": "code",
   "execution_count": 8,
   "id": "94de1485",
   "metadata": {},
   "outputs": [
    {
     "data": {
      "image/png": "[encoded data removed]",
      "text/plain": [
       "<Figure size 360x360 with 1 Axes>"
      ]
     },
     "metadata": {
      "needs_background": "light"
     },
     "output_type": "display_data"
    }
   ],
   "source": [
    "def g(x):\n",
    "    return(2*x) \n",
    "\n",
    "x = np.linspace(-3, 3, 100)\n",
    "fig = plt.figure(figsize=(5,5))\n",
    "plt.plot(x, g(x), 'b-', lw=1, c='b')\n",
    "plt.plot([x.min(), x.max()], [0, 0], lw=2, c='k')\n",
    "plt.plot([0, 0], [g(x).min(), f(x).max()], lw=2, c='k')\n",
    "plt.ylim(0, 2)\n",
    "plt.xlim(0, 1)\n",
    "plt.grid(lw=1)\n",
    "# plt.tick_params(labelbottom=False, labelleft=False, labelright=False, labeltop=False)\n",
    "plt.tick_params(color='white')\n",
    "plt.show()\n"
   ]
  },
  {
   "cell_type": "markdown",
   "id": "eeb9fae3",
   "metadata": {},
   "source": [
    "### 1차원 연속형 확률변수의 정의\n",
    "- 확률변수가 취할 수 있는 값은 구간 [a,b]로 정의되며 확률은 확률밀도함수(PDF) 또는 간단히 밀도함수라고 부르는 f(x)에 의해 정의된다.\n",
    "- 밀도함수 등으로 둘러싸인 영역의 면적이 확률이 된다는 연속형 확률변수의 개념이 중요하다.\n"
   ]
  },
  {
   "cell_type": "markdown",
   "id": "10bada7b",
   "metadata": {},
   "source": [
    "#### 과제_0829_1\n",
    "p173 ~ 180 예제 풀어보세요"
   ]
  },
  {
   "cell_type": "markdown",
   "id": "b6d8a042",
   "metadata": {},
   "source": [
    "#### 과제_0829_2\n",
    "p181 ~ 187 예제 풀어보세요"
   ]
  },
  {
   "cell_type": "markdown",
   "id": "77421c6e",
   "metadata": {},
   "source": [
    "#### 과제_0829_3\n",
    "p188 ~ 191 예제 풀어보세요(colab 이용)"
   ]
  },
  {
   "cell_type": "markdown",
   "id": "0e6e9302",
   "metadata": {},
   "source": [
    "#### 과제_0829_4\n",
    "미분, 적분 공부한 후 미적분 관계를 설명해 보세요."
   ]
  },
  {
   "cell_type": "markdown",
   "id": "240d9db8",
   "metadata": {},
   "source": [
    "#### 과제_0830_1\n",
    "p192 ~ 199 예제 풀어보세요(colab 이용)"
   ]
  },
  {
   "cell_type": "markdown",
   "id": "3030d80c",
   "metadata": {},
   "source": [
    "## 대표적인 연속형 확률분포"
   ]
  },
  {
   "cell_type": "code",
   "execution_count": 9,
   "id": "4c91f251",
   "metadata": {},
   "outputs": [],
   "source": [
    "import numpy as np\n",
    "from scipy import stats\n",
    "import matplotlib.pyplot as plt\n",
    "from scipy import stats, integrate\n",
    "from scipy.optimize import minimize_scalar\n"
   ]
  },
  {
   "cell_type": "code",
   "execution_count": 7,
   "id": "fb56ea21",
   "metadata": {},
   "outputs": [],
   "source": [
    "linestyles = ['-', '--', ':']\n",
    "\n",
    "def E(X, g=lambda x: x):\n",
    "    x_range, f = X\n",
    "    def integrand(x):\n",
    "        return g(x) * f(x)\n",
    "    return integrate.quad(integrand, -np.inf, np.inf)[0]\n",
    "\n",
    "def V(X, g=lambda x: x):\n",
    "    x_range, f = X\n",
    "    mean = E(X, g)\n",
    "    def integrand(x):\n",
    "        return (g(x) - mean) ** 2 * f(x)\n",
    "    return integrate.quad(integrand, -np.inf, np.inf)[0] # 적분값과 추정 오차를 반환하는 함수(피적분함수, 적분 범위)\n",
    "\n",
    "def check_prob(X):\n",
    "    x_range, f = X\n",
    "    f_min = minimize_scalar(f).fun\n",
    "    assert f_min >= 0, 'density function is minus value'\n",
    "    prob_sum = np.round(integrate.quad(f, -np.inf, np.inf)[0], 6)\n",
    "    assert prob_sum == 1, f'sum of probability is {prob_sum}'\n",
    "    print(f'expected vaue {E(X):.3f}')\n",
    "    print(f'variance {V(X):.3f}')\n",
    "    \n",
    "def plot_prob(X, x_min, x_max):  # 확률변수와 구간을 인수로 취하고 그 확률변수의 밀도함수와 분포함수를 그리는 함수\n",
    "    x_range, f = X\n",
    "    def F(x):\n",
    "        return integrate.quad(f, -np.inf, x)[0]\n",
    "\n",
    "    xs = np.linspace(x_min, x_max, 100)\n",
    "\n",
    "    fig = plt.figure(figsize=(10, 6))\n",
    "    ax = fig.add_subplot(111)\n",
    "    ax.plot(xs, [f(x) for x in xs],\n",
    "            label='f(x)', color='gray')\n",
    "    ax.plot(xs, [F(x) for x in xs],\n",
    "            label='F(x)', ls='--', color='gray')\n",
    "\n",
    "    ax.legend()\n",
    "    plt.show()"
   ]
  },
  {
   "cell_type": "markdown",
   "id": "2b78adcc",
   "metadata": {},
   "source": [
    "## 정규분포\n",
    "- 통계분석에서 자주 사용되는 중요한 확률분포로 자연계에서 일어나는 수많은 현상을 표현. 가우스 분포라고도 부름\n",
    "- 정규분포가 취할 수 있는 값은 실수 전체로 파라미터는 $평균(\\mu)과 분산(\\sigma^2)$ 두가지이다. $N(\\mu,\\sigma^2)$으로 표기\n"
   ]
  },
  {
   "cell_type": "markdown",
   "id": "49ee674d",
   "metadata": {},
   "source": [
    "- 정규분포의 밀도 함수\n",
    "<img src = './data/정규분포.jpg' STYLE='width 200px;'>\n"
   ]
  },
  {
   "cell_type": "markdown",
   "id": "4f43c696",
   "metadata": {},
   "source": [
    "- Numpy의 numpy.exp() 함수는 밑이 자연상수 e인 지수함수(e^x)로 변환\n",
    "- 자연상수(natural constant) e는 2.718281828459045… 이란 숫자입니다. 파이(π)처럼 소수점 아래에 끝이 없는 무리수\n",
    "- 자연 로그(natural logarithm)의 라틴 이름은 logarithm naturali 인데요, 이를 줄여서 ln이라고 합니다. 자연로그는 자연 상수 e를 밑(base)으로 하는 로그(log)입니다.\n",
    "- 자연 상수 e는 어떤 대상이 얼마 만큼 성장했는지를 알려 주는 수라면, 자연로그는 그 성장을 이루기 위해 얼마의 시간(또는 기간)이 필요한 지를 계산하는 것이라고 볼 수 있습니다.\n",
    "- 자연 상수 e의 의미와 자연 상수 e와 자연 로그의 관계를 이해하면, 자연 로그 값이 왜 성장을 달성하기 위한 시간(기간)을 알려 주는 지 이유를 알 수 있는데요\n"
   ]
  },
  {
   "cell_type": "code",
   "execution_count": 9,
   "id": "6c60cab5",
   "metadata": {},
   "outputs": [],
   "source": [
    "def N(mu, sigma):\n",
    "    x_range = [-np.inf,np.inf]\n",
    "    def f(x):\n",
    "        return 1/np.sqrt(2*np.pi*sigma**2)*np.exp(-(x-mu)**2/(2*sigma**2))\n",
    "    return x_range, f"
   ]
  },
  {
   "cell_type": "code",
   "execution_count": 10,
   "id": "fe5bae73",
   "metadata": {},
   "outputs": [],
   "source": [
    "mu, sigma = 2, 0.5\n",
    "X = N(mu,sigma)"
   ]
  },
  {
   "cell_type": "code",
   "execution_count": 11,
   "id": "f26694fe",
   "metadata": {},
   "outputs": [
    {
     "name": "stdout",
     "output_type": "stream",
     "text": [
      "expected vaue 2.000\n",
      "variance 0.250\n"
     ]
    }
   ],
   "source": [
    "check_prob(X)"
   ]
  },
  {
   "cell_type": "code",
   "execution_count": 13,
   "id": "17d74894",
   "metadata": {},
   "outputs": [
    {
     "data": {
      "image/png": "[encoded data removed]",
      "text/plain": [
       "<Figure size 720x432 with 1 Axes>"
      ]
     },
     "metadata": {
      "needs_background": "light"
     },
     "output_type": "display_data"
    }
   ],
   "source": [
    "plot_prob(X,0,4)"
   ]
  },
  {
   "cell_type": "code",
   "execution_count": 15,
   "id": "dbbb6420",
   "metadata": {},
   "outputs": [],
   "source": [
    "# scipy.stats.norm은 가우시안 정규분포 객체를 생성하는 메서드\n",
    "rv = stats.norm(2, 0.5)"
   ]
  },
  {
   "cell_type": "code",
   "execution_count": 16,
   "id": "bb9308cb",
   "metadata": {},
   "outputs": [
    {
     "data": {
      "text/plain": [
       "<scipy.stats._distn_infrastructure.rv_frozen at 0x274cb28b610>"
      ]
     },
     "execution_count": 16,
     "metadata": {},
     "output_type": "execute_result"
    }
   ],
   "source": [
    "rv"
   ]
  },
  {
   "cell_type": "code",
   "execution_count": 17,
   "id": "4a94fbef",
   "metadata": {},
   "outputs": [
    {
     "data": {
      "text/plain": [
       "(2.0, 0.25)"
      ]
     },
     "execution_count": 17,
     "metadata": {},
     "output_type": "execute_result"
    }
   ],
   "source": [
    "rv.mean(), rv.var()"
   ]
  },
  {
   "cell_type": "code",
   "execution_count": 18,
   "id": "1ad976a2",
   "metadata": {},
   "outputs": [
    {
     "data": {
      "text/plain": [
       "0.7978845608028654"
      ]
     },
     "execution_count": 18,
     "metadata": {},
     "output_type": "execute_result"
    }
   ],
   "source": [
    "rv.pdf(2)"
   ]
  },
  {
   "cell_type": "code",
   "execution_count": 19,
   "id": "14b2d74e",
   "metadata": {},
   "outputs": [
    {
     "data": {
      "text/plain": [
       "0.27425311775007355"
      ]
     },
     "execution_count": 19,
     "metadata": {},
     "output_type": "execute_result"
    }
   ],
   "source": [
    "rv.cdf(1.7)"
   ]
  },
  {
   "cell_type": "code",
   "execution_count": 23,
   "id": "af652f4c",
   "metadata": {},
   "outputs": [
    {
     "data": {
      "text/plain": [
       "2.2622002563540207"
      ]
     },
     "execution_count": 23,
     "metadata": {},
     "output_type": "execute_result"
    }
   ],
   "source": [
    "# isf : 생존함수의 역함수(inverse survival function), 상위 30% 점\n",
    "rv.isf(0.3)"
   ]
  },
  {
   "cell_type": "code",
   "execution_count": 24,
   "id": "e76dcfd9",
   "metadata": {},
   "outputs": [
    {
     "data": {
      "text/plain": [
       "(1.1775731865242636, 2.822426813475736)"
      ]
     },
     "execution_count": 24,
     "metadata": {},
     "output_type": "execute_result"
    }
   ],
   "source": [
    "# interval : 확률이 알파가 되는 가운데 부분의 구간을 구할 수 있다.(90% 구간)\n",
    "rv.interval(0.9)"
   ]
  },
  {
   "cell_type": "code",
   "execution_count": 26,
   "id": "123a1fce",
   "metadata": {},
   "outputs": [
    {
     "data": {
      "text/plain": [
       "(1.1775731865242638, 2.8224268134757367)"
      ]
     },
     "execution_count": 26,
     "metadata": {},
     "output_type": "execute_result"
    }
   ],
   "source": [
    "rv.isf(0.95), rv.isf(0.05)"
   ]
  },
  {
   "cell_type": "code",
   "execution_count": 27,
   "id": "221d4658",
   "metadata": {},
   "outputs": [
    {
     "data": {
      "image/png": "[encoded data removed]",
      "text/plain": [
       "<Figure size 720x432 with 1 Axes>"
      ]
     },
     "metadata": {
      "needs_background": "light"
     },
     "output_type": "display_data"
    }
   ],
   "source": [
    "linestyles = ['-', '--', ':']\n",
    "fig = plt.figure(figsize=(10, 6))\n",
    "ax = fig.add_subplot(111)\n",
    "\n",
    "xs = np.linspace(-5, 5, 100)\n",
    "params = [(0, 1), (0, 2), (1, 1)]  # 세가지 파라미터\n",
    "for param, ls in zip(params, linestyles):\n",
    "    mu, sigma = param\n",
    "    rv = stats.norm(mu, sigma)\n",
    "    ax.plot(xs, rv.pdf(xs),\n",
    "            label=f'N({mu}, {sigma**2})', ls=ls, color='gray')\n",
    "ax.legend()\n",
    "\n",
    "plt.show()"
   ]
  },
  {
   "cell_type": "code",
   "execution_count": 30,
   "id": "ea01aff4",
   "metadata": {},
   "outputs": [
    {
     "data": {
      "text/plain": [
       "0.3989422804014327"
      ]
     },
     "execution_count": 30,
     "metadata": {},
     "output_type": "execute_result"
    }
   ],
   "source": [
    "stats.norm.pdf(loc=0, scale=1, x=0)"
   ]
  },
  {
   "cell_type": "code",
   "execution_count": 31,
   "id": "977ac60c",
   "metadata": {},
   "outputs": [
    {
     "data": {
      "text/plain": [
       "[<matplotlib.lines.Line2D at 0x274cb37c0d0>]"
      ]
     },
     "execution_count": 31,
     "metadata": {},
     "output_type": "execute_result"
    },
    {
     "data": {
      "image/png": "[encoded data removed]",
      "text/plain": [
       "<Figure size 432x288 with 1 Axes>"
      ]
     },
     "metadata": {
      "needs_background": "light"
     },
     "output_type": "display_data"
    }
   ],
   "source": [
    "x_plot = np.arange(-4, 4, 0.1)\n",
    "plt.plot(x_plot, stats.norm.pdf(x=x_plot, loc=0, scale=1),color='black')"
   ]
  },
  {
   "cell_type": "code",
   "execution_count": 33,
   "id": "b1a0a3c7",
   "metadata": {},
   "outputs": [
    {
     "data": {
      "text/plain": [
       "[<matplotlib.lines.Line2D at 0x274cb4afe80>]"
      ]
     },
     "execution_count": 33,
     "metadata": {},
     "output_type": "execute_result"
    },
    {
     "data": {
      "image/png": "[encoded data removed]",
      "text/plain": [
       "<Figure size 432x288 with 1 Axes>"
      ]
     },
     "metadata": {
      "needs_background": "light"
     },
     "output_type": "display_data"
    }
   ],
   "source": [
    "# x : 1 ~ 7.1 , 평균 4, 표준편차 0.8 인 정규분포 곡선을 출력하세요.\n",
    "x_plot = np.arange(1, 7.1, 0.1)\n",
    "plt.plot(x_plot, stats.norm.pdf(x=x_plot, loc=4, scale=0.8),color='black')"
   ]
  },
  {
   "cell_type": "code",
   "execution_count": 34,
   "id": "8755dc15",
   "metadata": {},
   "outputs": [
    {
     "data": {
      "text/plain": [
       "0.49867785050179086"
      ]
     },
     "execution_count": 34,
     "metadata": {},
     "output_type": "execute_result"
    }
   ],
   "source": [
    "# 확률변수가 4일때의 확률밀도\n",
    "norm_dist = stats.norm(loc=4, scale=0.8)\n",
    "norm_dist.pdf(x=4)"
   ]
  },
  {
   "cell_type": "code",
   "execution_count": 35,
   "id": "da48c38f",
   "metadata": {},
   "outputs": [
    {
     "data": {
      "text/plain": [
       "0.9999115827147992"
      ]
     },
     "execution_count": 35,
     "metadata": {},
     "output_type": "execute_result"
    }
   ],
   "source": [
    "# 누적분포함수\n",
    "stats.norm.cdf(loc=4,scale=0.8,x=7)"
   ]
  },
  {
   "cell_type": "markdown",
   "id": "2afc0696",
   "metadata": {},
   "source": [
    "#### 과제_0830_2\n",
    "- 상기 누적분포함수를 그래프로 출력하세요.\n",
    "- 확률변수가 4일때 누적분포값(확률)\n",
    "- 확률이 0.5일때 확률변수를 구하세요."
   ]
  },
  {
   "cell_type": "markdown",
   "id": "ef584e76",
   "metadata": {},
   "source": [
    "#### 확률분포함수\n",
    "\n",
    "- pmf 확률질량함수(probability mass function)\n",
    "- pdf 확률밀도함수(probability density function)\n",
    "- cdf 누적분포함수(cumulative distribution function)\n",
    "- ppf 누적분포함수의 역함수(inverse cumulative distribution function)\n",
    "- sf 생존함수(survival function) = 1 - 누적분포함수\n",
    "- isf 생존함수의 역함수(inverse survival function)\n",
    "- rvs 랜덤 표본 생성(random variable sampling)\n",
    "\n",
    "https://docs.scipy.org/doc/scipy/reference/generated/scipy.stats.norm.html\n"
   ]
  },
  {
   "cell_type": "code",
   "execution_count": 36,
   "id": "bc133b55",
   "metadata": {},
   "outputs": [
    {
     "data": {
      "text/plain": [
       "Text(0.5, 1.0, '확률밀도함수와 누적분포함수')"
      ]
     },
     "execution_count": 36,
     "metadata": {},
     "output_type": "execute_result"
    },
    {
     "data": {
      "image/png": "[encoded data removed]",
      "text/plain": [
       "<Figure size 800x400 with 2 Axes>"
      ]
     },
     "metadata": {},
     "output_type": "display_data"
    }
   ],
   "source": [
    "from matplotlib import rc\n",
    "plt.style.use('default')\n",
    "rc('font',family='Malgun Gothic')\n",
    "plt.rcParams['axes.unicode_minus'] = False\n",
    "\n",
    "fig = plt.figure(figsize=(8, 4))  \n",
    "ax1 = fig.add_subplot(111)\n",
    "ax2 = ax1.twinx()\n",
    "rv = stats.norm(0, 1)\n",
    "xx = np.linspace(-3,3,100)\n",
    "y1 =rv.pdf(xx)\n",
    "y2 =rv.cdf(xx)\n",
    "        # 플롯 사이즈 지정\n",
    "ax1.plot(xx, y1, color=\"red\")         # 선을 빨강색으로 지정하여 plot 작성  \n",
    "ax2.plot(xx, y2, color='blue')\n",
    "ax1.set_xlabel(\"x\",fontsize=15)                      # x축 레이블 지정\n",
    "ax1.set_ylabel(\"pdf\",rotation=0, fontsize=15,labelpad=20) \n",
    "ax2.set_ylabel(\"cdf\",rotation=0, fontsize=15,labelpad=20) # y축 레이블 지정\n",
    "                         # 플롯에 격자 보이기\n",
    "# ax1.legend(loc='center left')              # 범례 표시\n",
    "# ax2.legend(loc='center right') \n",
    "plt.title('확률밀도함수와 누적분포함수',fontsize=25)\n"
   ]
  },
  {
   "cell_type": "code",
   "execution_count": 37,
   "id": "772e2975",
   "metadata": {},
   "outputs": [
    {
     "data": {
      "text/plain": [
       "0.5"
      ]
     },
     "execution_count": 37,
     "metadata": {},
     "output_type": "execute_result"
    }
   ],
   "source": [
    "rv.cdf(0)"
   ]
  },
  {
   "cell_type": "code",
   "execution_count": 38,
   "id": "3fdd1ab1",
   "metadata": {},
   "outputs": [
    {
     "data": {
      "text/plain": [
       "0.8413447460685429"
      ]
     },
     "execution_count": 38,
     "metadata": {},
     "output_type": "execute_result"
    }
   ],
   "source": [
    "rv.cdf(1)"
   ]
  },
  {
   "cell_type": "code",
   "execution_count": 39,
   "id": "57e2e586",
   "metadata": {},
   "outputs": [
    {
     "data": {
      "text/plain": [
       "0.0"
      ]
     },
     "execution_count": 39,
     "metadata": {},
     "output_type": "execute_result"
    }
   ],
   "source": [
    "# ppf : 누적분포함수의 역함수. 누적분포가 0.5인 x값\n",
    "rv.ppf(0.5)"
   ]
  },
  {
   "cell_type": "code",
   "execution_count": 40,
   "id": "50c289a2",
   "metadata": {},
   "outputs": [
    {
     "data": {
      "text/plain": [
       "1.6448536269514722"
      ]
     },
     "execution_count": 40,
     "metadata": {},
     "output_type": "execute_result"
    }
   ],
   "source": [
    "rv.ppf(0.95)"
   ]
  },
  {
   "cell_type": "code",
   "execution_count": 41,
   "id": "5585ae0a",
   "metadata": {},
   "outputs": [
    {
     "data": {
      "text/plain": [
       "0.3413447460685429"
      ]
     },
     "execution_count": 41,
     "metadata": {},
     "output_type": "execute_result"
    }
   ],
   "source": [
    "# 0 ~1까지 누적확률분포\n",
    "rv.cdf(1) - rv.cdf(0)"
   ]
  },
  {
   "cell_type": "code",
   "execution_count": 42,
   "id": "31fc9241",
   "metadata": {},
   "outputs": [
    {
     "data": {
      "text/plain": [
       "0.9544997361036416"
      ]
     },
     "execution_count": 42,
     "metadata": {},
     "output_type": "execute_result"
    }
   ],
   "source": [
    "# (-2 < x < 2) 확률을 구하세요.\n",
    "rv.cdf(2) - rv.cdf(-2)"
   ]
  },
  {
   "cell_type": "markdown",
   "id": "d67732b6",
   "metadata": {},
   "source": [
    "#### 과제_0830_3\n",
    "- 상위 5% 확률의 확률변수를 구하세요\n",
    "- 하위 5% 확률의 확률변수를 구하세요"
   ]
  },
  {
   "cell_type": "markdown",
   "id": "ec740256",
   "metadata": {},
   "source": [
    "#### 과제_0830_4\n",
    "아래 문제를 풀어보세요.\n",
    "1. 어느 회사에서 종업원들의 근무기간을 조사하였는데, 종업원들의 근무기간은 평균이 11년이고 표준편차가 4년인 정규분포를 따른다고 한다. 그럼 이 회사에서 14년 이상 근무한 종업원의 비율을 구하시오 \n",
    "\n",
    "2. 어느 전구회사의 전구의 수명은 평균 800일, 표준편차 30일인 정규분포를 따른다. 전구의 수명이 760일 이하일 확률 구하시오 \n",
    "\n",
    "3. 어느 고등학교 3학년 학생들의 수학 성적은 평균이 70점이고 분산이 64점인 정규분포를 따른다고 한다. 그럼 점수가 80점 이상이고 90점 이하일 확률을 구하시오\n"
   ]
  },
  {
   "cell_type": "markdown",
   "id": "825872dc",
   "metadata": {},
   "source": [
    "## 지수분포\n",
    "- 어떤 사건이 발생하는 간격이 따르는 분포이며 확률변수가 취할 수 있는 값은 0이상의 실수\n",
    "- 지수분포의 파라미터는 $\\lambda$로 양의 실수이며 지수분포를 Ex($\\lambda$)로 표기한다.\n",
    "- Ex($\\lambda$)는 단위시간당 평균 $\\lambda$번 발생하는 사건의 발생 간격을 따르는 확률분포이다.\n",
    "- 지수분포의 밀도함수 :\n",
    "\n",
    "$$f(x) = {\\lambda}e^{{-\\lambda}x} (x \\ge 0)$$\n",
    "\n",
    "                                                           0        (otherwise)\n"
   ]
  },
  {
   "cell_type": "code",
   "execution_count": 5,
   "id": "85177dbb",
   "metadata": {},
   "outputs": [],
   "source": [
    "import numpy as np\n",
    "def Ex(lam):\n",
    "    x_range = [0, np.inf]\n",
    "    def f(x):\n",
    "        if x >= 0:\n",
    "            return lam * np.exp(-lam*x)\n",
    "        else:\n",
    "            return 0\n",
    "    return x_range, f\n"
   ]
  },
  {
   "cell_type": "code",
   "execution_count": 6,
   "id": "643eda09",
   "metadata": {},
   "outputs": [],
   "source": [
    "lam = 2\n",
    "X = Ex(lam)"
   ]
  },
  {
   "cell_type": "code",
   "execution_count": 10,
   "id": "461c634f",
   "metadata": {},
   "outputs": [
    {
     "name": "stdout",
     "output_type": "stream",
     "text": [
      "expected vaue 0.500\n",
      "variance 0.250\n"
     ]
    }
   ],
   "source": [
    "check_prob(X)"
   ]
  },
  {
   "cell_type": "code",
   "execution_count": 11,
   "id": "eba8b754",
   "metadata": {},
   "outputs": [
    {
     "data": {
      "image/png": "[encoded data removed]",
      "text/plain": [
       "<Figure size 720x432 with 1 Axes>"
      ]
     },
     "metadata": {
      "needs_background": "light"
     },
     "output_type": "display_data"
    }
   ],
   "source": [
    "plot_prob(X,0,2)"
   ]
  },
  {
   "cell_type": "markdown",
   "id": "b722101b",
   "metadata": {},
   "source": [
    "#### 과제_0831_1\n",
    "상기 지수분포에서 lambda를 1, 2, 3으로 변환시켰을 때 그래프의 변화 모습을 출력하고 의미를 설명하세요."
   ]
  },
  {
   "cell_type": "code",
   "execution_count": 12,
   "id": "d7a3a1b7",
   "metadata": {},
   "outputs": [
    {
     "data": {
      "image/png": "[encoded data removed]",
      "text/plain": [
       "<Figure size 720x432 with 1 Axes>"
      ]
     },
     "metadata": {
      "needs_background": "light"
     },
     "output_type": "display_data"
    }
   ],
   "source": [
    "# lambda 1,2,3\n",
    "fig = plt.figure(figsize=(10, 6))\n",
    "ax = fig.add_subplot(111)\n",
    "\n",
    "xs = np.linspace(0, 3, 100)\n",
    "for lam, ls in zip([1, 2, 3], linestyles):\n",
    "    rv = stats.expon(scale=1/lam)\n",
    "    ax.plot(xs, rv.pdf(xs),\n",
    "            label=f'lambda:{lam}', ls=ls, color='blue')\n",
    "ax.legend()\n",
    "\n",
    "plt.show()\n"
   ]
  },
  {
   "cell_type": "markdown",
   "id": "5f2f1499",
   "metadata": {},
   "source": [
    "## 카이제곱분포\n",
    "- 좌우비대칭으로 왼쪽으로 치우치고 오른쪽으로 넓어진다.\n",
    "- 자유도가 커지면 좌우대칭에 가까워진다.\n",
    "- 자유도의 값 가까이에 분포의 정점이 있다.\n"
   ]
  },
  {
   "cell_type": "markdown",
   "id": "f03c9d76",
   "metadata": {},
   "source": [
    "#### 과제_0831_2\n",
    "p219 ~ 223 예제 코드로 작성하세요."
   ]
  },
  {
   "cell_type": "markdown",
   "id": "e313c19b",
   "metadata": {},
   "source": [
    "## t분포\n",
    "- 정규분포에서 모평균의 구간추정 등에 사용되는 확률분포\n",
    "- 확률변수 Z, Y는 서로 독립이고 Z는 표준정규분포 N(0,1)을 Y는 자유도가 n인 카이제곱분포 $\\chi^2(n)$을 각각 따를 때 t = ${Z} \\over{\\sqrt{{Y}\\over{n}}}$ 의 확률분포를 자유도가 n인 t분포라고 한다.\n",
    "- t분포의 의미\n",
    "  * 모분산을 모르는 상황에서도 표본평균의 분포에 대하여 애기할 수 있다.\n",
    "  * t분포를 만들 때 표본에서 계산한 표준오차로 표본평균을 표준화함\n",
    "  * 표본에서 계산한 표준오차로 표본평균을 표준화했을 경우의 결과가 t분포를 따른다는 사실을 이용하면 얻어낸 표본평균에 관한 불확실성을 짐작할 수 있다.\n",
    "- t분포의 특성\n",
    "  * t분포는 모집단이 정규분포이더라도 분산 $\\sigma^2$이 알려져 있지 않고 표본의 수가 적은 경우에 평균 $\\mu$에 대한 신뢰구간 추정 및 가설검정에 아주 유용하게 쓰이는 분포이다.\n",
    "  * t분포는 표준정규분포처럼 0을 중심으로 종형의 모습을 가진 대칭 분포이다.\n",
    "  * t분포는 꼬리는 표준정규분포 보다 두껍다(fat tail)\n",
    "  * t분포는 자유도 n에 따라 모습이 변하는데 자유도 n이 커짐에 따라 표준정규분포 N(0,1)에 수렴한다. 통상 모집단의 분산이 알려져 있지 않은 경우, 표분분포를 결정할 때 표본의 크기가 30 이하이면 t분포를, 그 크기가 30 이상이면 표준정규분포를 이용\n"
   ]
  },
  {
   "cell_type": "markdown",
   "id": "7d5ec392",
   "metadata": {},
   "source": [
    "#### 과제_0831_3\n",
    "p224 ~ 228 예제 코드로 작성하세요."
   ]
  },
  {
   "cell_type": "markdown",
   "id": "8ee35187",
   "metadata": {},
   "source": [
    "## F분포\n",
    "- 확률변수 $Y_1, Y_2는 서로 독립이고 각각 Y_1$ ~ ${\\chi}^2(n_1), Y_2$ ~ ${{\\chi}^2(n_2)}$를 따를 때,\n",
    "F = ${Y_1/n_1}\\over{Y_2/n_2} $의 확률분포를 자유도 $n_1,n_2$인 F분포 F$(n_1,n_2)$라고 한다.\n",
    "- 좌우 비대칭으로 왼쪽으로 치우치고 오른쪽으로 넓어지는 분포이다.\n",
    "- F분포가 취할 수 있는 값은 0 이상인 실수이며 분포의 정점은 1에 가깝다.\n"
   ]
  },
  {
   "cell_type": "markdown",
   "id": "9b2b7f53",
   "metadata": {},
   "source": [
    "#### 과제_0831_4\n",
    "p229 ~ 232 예제 코드로 작성하세요."
   ]
  },
  {
   "cell_type": "markdown",
   "id": "2c8fcb9c",
   "metadata": {},
   "source": [
    "## 독립동일분포\n",
    "- 확률변수가 서로 독립이라는 것은 확률변수가 다른 확률변수에 영향을 끼치지 않는다는 의미이다.\n",
    "- 통계분석에서 취급하는 데이터 중 상당수가 독립이면서 다차원인 확률변수의 실현값으로 간주될 수 있다.\n",
    "- 서로 독립이고 각각 동일한 확률분포를 따르는 다차원 확률변수를 독립동일분포라 한다.\n"
   ]
  },
  {
   "cell_type": "code",
   "execution_count": 2,
   "id": "ce871644",
   "metadata": {},
   "outputs": [
    {
     "data": {
      "text/plain": [
       "'%.3f'"
      ]
     },
     "execution_count": 2,
     "metadata": {},
     "output_type": "execute_result"
    }
   ],
   "source": [
    "import numpy as np\n",
    "import matplotlib.pyplot as plt\n",
    "from scipy import stats\n",
    "\n",
    "np.random.seed(0)\n",
    "%precision 3"
   ]
  },
  {
   "cell_type": "code",
   "execution_count": 3,
   "id": "3ed9467d",
   "metadata": {},
   "outputs": [],
   "source": [
    "linestyles = ['-', '--', ':', '-.']\n",
    "\n",
    "def E(XY, g):\n",
    "    x_set, y_set, f_XY = XY\n",
    "    return np.sum([g(x_i, y_j) * f_XY(x_i, y_j)\n",
    "                   for x_i in x_set for y_j in y_set])\n",
    "\n",
    "def Cov(XY):\n",
    "    x_set, y_set, f_XY = XY\n",
    "    mean_X = E(XY, lambda x, y: x)\n",
    "    mean_Y = E(XY, lambda x, y: y)\n",
    "    return np.sum([(x_i-mean_X) * (y_j-mean_Y) * f_XY(x_i, y_j)\n",
    "                    for x_i in x_set for y_j in y_set])\n",
    "\n",
    "def f_X(x):\n",
    "    return np.sum([f_XY(x, y_k) for y_k in y_set])\n",
    "\n",
    "def f_Y(y):\n",
    "    return np.sum([f_XY(x_k, y) for x_k in x_set])\n"
   ]
  },
  {
   "cell_type": "markdown",
   "id": "c59cabb3",
   "metadata": {},
   "source": [
    "### 독립성의 정의\n",
    "- 2개 이상의 확률변수가 서로 영향을 끼치지 않으며 관계가 없음을 나타내는 개념\n",
    "- 2차원 확률변수 (X,Y)의 경우 다음과 같은 관계가 성립할 때 X,Y는 독립이라고 함.  \n",
    "$f_{X,Y}(x,y) = f_X(x)f_Y(y)$\n",
    "- 확률변수가 독립일 때 결합확률은 주변확률의 곱으로 작성할 수 있다.\n",
    "- 일반화 : $f_{X_1,X_2,...,X_n}(x_1,x_2,..x_n) = f_{X_1}(x_1)f_{X_2}(x_2)···f_{X_n}(x_n)$  \n",
    "※ 함수 f가 이산형이면 확률함수, 연속형이면 밀도함수를 나타냄\n"
   ]
  },
  {
   "cell_type": "markdown",
   "id": "557ce568",
   "metadata": {},
   "source": [
    "### 독립성과 무상관성\n",
    "- 공분산이나 상관계수가 0일 때 무상관이라 하고 두 확률변수 사이에는 상관성, 즉 선형 관계가 없음을 나타냄\n",
    "- 독립성도 무상관성도 두 확률변수가 서로 관계가 없다는 것을 나타내는 성질이다.\n",
    " * 무상관성보다 독립성이 더 강한 개념\n",
    " * 2개의 확률변수 X와 Y가 독립일 때 X와 Y는 무상관이 되지만 X와 Y가 무상관일 때 X와 Y가 반드시 독립인 것은 아님\n"
   ]
  },
  {
   "cell_type": "code",
   "execution_count": 4,
   "id": "f1402633",
   "metadata": {},
   "outputs": [],
   "source": [
    "# 불공정한 주사위의 예\n",
    "x_set = np.array([1,2,3,4,5,6])\n",
    "y_set = np.array([1,2,3,4,5,6])\n",
    "\n",
    "def f_XY(x,y):\n",
    "    if x in x_set and y in y_set:\n",
    "        return x* y / 441\n",
    "    else:\n",
    "        return 0\n",
    "    \n",
    "XY = [x_set,y_set, f_XY]"
   ]
  },
  {
   "cell_type": "code",
   "execution_count": 5,
   "id": "f7d9538b",
   "metadata": {},
   "outputs": [
    {
     "data": {
      "text/plain": [
       "-0.000"
      ]
     },
     "execution_count": 5,
     "metadata": {},
     "output_type": "execute_result"
    }
   ],
   "source": [
    "# 2차원 확률변수 X와 Y는 독립\n",
    "# 공분산이 0이므로 무상관\n",
    "Cov(XY)"
   ]
  },
  {
   "cell_type": "code",
   "execution_count": 6,
   "id": "72773554",
   "metadata": {},
   "outputs": [],
   "source": [
    "# 무상관인 2개의 확률변수 고려\n",
    "x_set = np.array([0,1])\n",
    "y_set = np.array([-1,0,1])\n",
    "\n",
    "def f_XY(x,y):\n",
    "    if (x,y) in [(0,0),(1,1),(1,-1)]:\n",
    "        return 1/3\n",
    "    else:\n",
    "        return 0\n",
    "    \n",
    "XY = [x_set, y_set, f_XY]"
   ]
  },
  {
   "cell_type": "code",
   "execution_count": 7,
   "id": "d5f2e970",
   "metadata": {},
   "outputs": [
    {
     "data": {
      "text/plain": [
       "0.000"
      ]
     },
     "execution_count": 7,
     "metadata": {},
     "output_type": "execute_result"
    }
   ],
   "source": [
    "Cov(XY)"
   ]
  },
  {
   "cell_type": "code",
   "execution_count": 8,
   "id": "ff427658",
   "metadata": {},
   "outputs": [
    {
     "data": {
      "text/plain": [
       "(0.111, 0.333)"
      ]
     },
     "execution_count": 8,
     "metadata": {},
     "output_type": "execute_result"
    }
   ],
   "source": [
    "f_X(0) * f_Y(0), f_XY(0,0)"
   ]
  },
  {
   "cell_type": "markdown",
   "id": "aea8c311",
   "metadata": {},
   "source": [
    "## 합의 분포\n",
    "- 서로 독립이고 동일한 확률분포을 따르는 확률변수 $X_1,X_2,···,X_n의 합 \\sum_{i=1}^n X_i = X_1 + X_2 + ···+ X_n$이 따르는 확률분포를 의미\n",
    "- 합의 분포를 이해하면 확률변수의 합을 n으로 나눈 표본평균의 분포도 쉽게 이해할 수 있음\n",
    "- 확률변수 합의 기댓값 : $E(X_1 + X_2 + ··· + X_n) = E(X_1) + E(X_2) + ··· E(X_n)$ 이 성립\n",
    "- 확률변수 합의 공식 : $X_1, X_2, ··· ,X_n이 서로 독립이면  V(X_1 + X_2 + ··· + X_n) = V(X_1) + V(X_2) + ··· V(X_n)$이 성립  \n",
    "결국 합의 분포 분산도 각 확률변수에 대한 분산의 합으로 계산할 수 있다.\n"
   ]
  },
  {
   "cell_type": "code",
   "execution_count": 12,
   "id": "19aa76c7",
   "metadata": {},
   "outputs": [
    {
     "name": "stdout",
     "output_type": "stream",
     "text": [
      "[-0.91   0.09   2.556 ...  1.314  0.142  4.613] \n",
      "\n",
      "[2.818 4.307 3.794 ... 1.113 4.891 1.45 ] \n",
      "\n",
      "평균: 0.9982574888227932 2.001987499132003 \n",
      "\n",
      "분산: 2.001798809122603 2.9979721400874784 \n",
      "\n",
      "합의 평균, 분산: 3.0002449879547983 4.9967582025067685\n"
     ]
    }
   ],
   "source": [
    "# 정규분포 합의 분포\n",
    "# 서로 독립인 X~N(1,2), Y~N(2,3)이 있을 때 확률변수 X + Y의 분포는 N(3,5)를 따름\n",
    "rv1 = stats.norm(1,np.sqrt(2))\n",
    "rv2 = stats.norm(2,np.sqrt(3))\n",
    "\n",
    "sample_size = int(1e6)\n",
    "X_sample = rv1.rvs(sample_size)\n",
    "Y_sample = rv2.rvs(sample_size)\n",
    "print(X_sample,'\\n')\n",
    "print(Y_sample,'\\n')\n",
    "sum_sample = X_sample + Y_sample\n",
    "print('평균:', np.mean(X_sample),np.mean(Y_sample),'\\n')\n",
    "print('분산:', np.var(X_sample), np.var(Y_sample),'\\n')\n",
    "print('합의 평균, 분산:', np.mean(sum_sample), np.var(sum_sample))"
   ]
  },
  {
   "cell_type": "markdown",
   "id": "5d9e0d03",
   "metadata": {},
   "source": [
    "#### 과제_0901_1\n",
    "p243~250 예제 풀기"
   ]
  },
  {
   "cell_type": "markdown",
   "id": "6884ec74",
   "metadata": {},
   "source": [
    "## 표본평균의 분포\n",
    "- 표본평균의 분포란 서로 독립이고 동일한 확률분포를 따르는 확률변수 $X_1, X_2, ...,X_n$의 표본평균이 따르는 분포\n",
    "- 이 분포는 중심극한정리나 대수의 법칙 등 추측통계에서 중요한 성질을 담고 있기 때문에 유의해야 함\n",
    "- 표본평균의 기댓값과 분산  \n",
    "$E(\\bar{X}) = \\mu$  \n",
    "$V(\\bar{X}) = {\\sigma}^2 / n$\n",
    "\n",
    "### 중심극한정리\n",
    "- 확률변수 $X_1,X_2,...Xn$이 서로 독립이고 기댓값이 $\\mu, 분산이 {\\sigma}^2$인 확률분포 F를 따를 때 n이 커짐에 따라 표본평균 $\\bar{X}의 분포는 정규분포 N(\\mu,{\\sigma}^2/n)$에 가까워진다.\n",
    "\n",
    "### 대수의 법칙\n",
    "확률변수 $X_1,X_2,...,X_n$이 서로 독립이고 평균이 $\\mu, 분산이 \\sigma^2$일 것 같은 확률분포를 따를 때 n이 커짐에 따라 표본평균은 $\\mu$에 수렴한다.\n"
   ]
  },
  {
   "cell_type": "markdown",
   "id": "e0f76da2",
   "metadata": {},
   "source": [
    "#### 과제 0901_2\n",
    "p251 ~ 260 예제 풀어보기"
   ]
  },
  {
   "cell_type": "markdown",
   "id": "d4b91c08",
   "metadata": {},
   "source": [
    "#### 과제 0902_1\n",
    "중심극한정리와 대수의 법칙을 사례를 들어 설명하세요. "
   ]
  }
 ],
 "metadata": {
  "kernelspec": {
   "display_name": "Python 3 (ipykernel)",
   "language": "python",
   "name": "python3"
  },
  "language_info": {
   "codemirror_mode": {
    "name": "ipython",
    "version": 3
   },
   "file_extension": ".py",
   "mimetype": "text/x-python",
   "name": "python",
   "nbconvert_exporter": "python",
   "pygments_lexer": "ipython3",
   "version": "3.8.13"
  }
 },
 "nbformat": 4,
 "nbformat_minor": 5
}
