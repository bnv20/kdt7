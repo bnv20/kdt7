{
 "cells": [
  {
   "cell_type": "markdown",
   "id": "9f09431d",
   "metadata": {},
   "source": [
    "## 데이터와 행렬\n",
    "\n",
    "- 스칼라 : 숫자 하나만으로 이루어진 데이터\n",
    "- 벡터 : 여러 숫자가 특정한 순서대로 모여 있는 것을 의미. 하나의 벡터를 이루는 데이터 수가 n개이면 n-차원 벡터라고 함\n",
    "- 열벡터는 열의 수가 1인 행렬\n",
    "- 하나의 데이터 레코드를 단독으로 벡터로 나타낼 때는 하나의 열로 나타내고 복수의 데이터 레코드 집합을 행렬로 나타낼 때는 하나의 데이터 레코드가 하나의 행으로 표기하는 것은 데이터 분석에서 일반적인 관례\n",
    "- 스칼라와 벡터도 수학적으로는 행렬에 속한다.\n",
    "- 스칼라는 열과 행의 수가 각각 1인 행렬이고 벡터는 열의 수가 1인 행렬이다."
   ]
  },
  {
   "cell_type": "markdown",
   "id": "bf240106",
   "metadata": {},
   "source": [
    "#### Python Numpy 선형대수\n",
    "- 단위행렬 (Unit matrix): np.eye(n)\n",
    "- 대각행렬 (Diagonal matrix): np.diag(x)\n",
    "- 내적 (Dot product, Inner product): np.dot(a, b)\n",
    "- 대각합 (Trace): np.trace(x)\n",
    "- 행렬식 (Matrix Determinant): np.linalg.det(x)\n",
    "- 역행렬 (Inverse of a matrix): np.linalg.inv(x)\n",
    "- 고유값 (Eigenvalue), 고유벡터 (Eigenvector): w, v = np.linalg.eig(x)\n",
    "- 특이값 분해 (Singular Value Decomposition): u, s, vh = np.linalg.svd(A)\n",
    "\n",
    "https://rfriend.tistory.com/380\n"
   ]
  },
  {
   "cell_type": "code",
   "execution_count": 1,
   "id": "d7382ebe",
   "metadata": {},
   "outputs": [
    {
     "data": {
      "text/plain": [
       "array([[1., 0., 0., 0., 0.],\n",
       "       [0., 1., 0., 0., 0.],\n",
       "       [0., 0., 1., 0., 0.],\n",
       "       [0., 0., 0., 1., 0.],\n",
       "       [0., 0., 0., 0., 1.]])"
      ]
     },
     "execution_count": 1,
     "metadata": {},
     "output_type": "execute_result"
    }
   ],
   "source": [
    "import numpy as np\n",
    "np.eye(5)"
   ]
  },
  {
   "cell_type": "code",
   "execution_count": null,
   "id": "6d5a259c",
   "metadata": {},
   "outputs": [],
   "source": []
  },
  {
   "cell_type": "markdown",
   "id": "fc258370",
   "metadata": {},
   "source": [
    "<img src = '내적.jpg' STYLE='width:800px;'>\n",
    "\n",
    "벡터 a를 벡터 b와 같은 방향의 성분과 그렇지 않은 성분으로 분해한다고 할 때 $|a|cosθ$의 길이는 벡터 b와 같은 방향의 성분 길이와 같다.  \n",
    "\n",
    "벡터 a와 b의 내적은 벡터 b의 길이와 벡터 a에서 벡터 b와 같은 방향의 성분 길이를 곱한 것이다.\n",
    "\n",
    "- 행렬 내적은 행렬 곱이며 두 행렬 A와 B의 내적은 np.dot()을 이용해 계산이 가능\n",
    "- 행렬 내적의 특성으로 왼쪽 행렬의 열개수와 오른쪽 행렬의 행개수가 동일해야 내적 연산 가능\n"
   ]
  },
  {
   "cell_type": "code",
   "execution_count": null,
   "id": "da53a06e",
   "metadata": {},
   "outputs": [],
   "source": [
    "# 과제_1013_1 상기 각 항목에 대한 예제를 풀어보세요."
   ]
  },
  {
   "cell_type": "markdown",
   "id": "21a00e06",
   "metadata": {},
   "source": [
    "행렬 곱을 응용하여 신경망에 적용\n",
    "<img src='행렬곱.jpg' STYLE='width:300px;'>"
   ]
  },
  {
   "cell_type": "code",
   "execution_count": null,
   "id": "eb3767eb",
   "metadata": {},
   "outputs": [],
   "source": [
    "x = np.arange(1,7).reshape(2,3)\n",
    "y = np.array([[6.,23],[-1,7],[8,9]])\n"
   ]
  },
  {
   "cell_type": "code",
   "execution_count": 2,
   "id": "2a5e6c27",
   "metadata": {},
   "outputs": [
    {
     "name": "stdout",
     "output_type": "stream",
     "text": [
      "(8, 8)\n"
     ]
    }
   ],
   "source": [
    "from sklearn.datasets import load_digits\n",
    "import matplotlib.pyplot as plt\n",
    "\n",
    "digits = load_digits()\n",
    "print(digits.images[0].shape)"
   ]
  },
  {
   "cell_type": "code",
   "execution_count": 4,
   "id": "93f4439c",
   "metadata": {},
   "outputs": [
    {
     "data": {
      "text/plain": [
       "array([[ 0.,  0.,  5., 13.,  9.,  1.,  0.,  0.],\n",
       "       [ 0.,  0., 13., 15., 10., 15.,  5.,  0.],\n",
       "       [ 0.,  3., 15.,  2.,  0., 11.,  8.,  0.],\n",
       "       [ 0.,  4., 12.,  0.,  0.,  8.,  8.,  0.],\n",
       "       [ 0.,  5.,  8.,  0.,  0.,  9.,  8.,  0.],\n",
       "       [ 0.,  4., 11.,  0.,  1., 12.,  7.,  0.],\n",
       "       [ 0.,  2., 14.,  5., 10., 12.,  0.,  0.],\n",
       "       [ 0.,  0.,  6., 13., 10.,  0.,  0.,  0.]])"
      ]
     },
     "execution_count": 4,
     "metadata": {},
     "output_type": "execute_result"
    }
   ],
   "source": [
    "digits.images[0]"
   ]
  },
  {
   "cell_type": "code",
   "execution_count": 5,
   "id": "9a8bcded",
   "metadata": {},
   "outputs": [
    {
     "data": {
      "image/png": "[encoded data removed]",
      "text/plain": [
       "<Figure size 72x72 with 1 Axes>"
      ]
     },
     "metadata": {},
     "output_type": "display_data"
    }
   ],
   "source": [
    "plt.figure(figsize=(1,1))\n",
    "plt.imshow(digits.images[0])\n",
    "plt.grid(False);plt.xticks([]);plt.yticks([])\n",
    "plt.show()"
   ]
  },
  {
   "cell_type": "code",
   "execution_count": 7,
   "id": "53bc8e99",
   "metadata": {},
   "outputs": [
    {
     "name": "stdout",
     "output_type": "stream",
     "text": [
      "downloading Olivetti faces from https://ndownloader.figshare.com/files/5976027 to C:\\Users\\admin\\scikit_learn_data\n",
      "[[0.3305785  0.30578512 0.3305785  ... 0.3966942  0.37190083 0.28512397]\n",
      " [0.32231405 0.32231405 0.29752067 ... 0.41322315 0.338843   0.2603306 ]\n",
      " [0.3264463  0.30991736 0.30578512 ... 0.40495867 0.36363637 0.27272728]\n",
      " ...\n",
      " [0.16115703 0.16528925 0.1570248  ... 0.14049587 0.1570248  0.16115703]\n",
      " [0.1570248  0.17768595 0.16115703 ... 0.14049587 0.1570248  0.1570248 ]\n",
      " [0.17768595 0.1694215  0.16528925 ... 0.1446281  0.15289256 0.15289256]] \n",
      "\n"
     ]
    },
    {
     "data": {
      "text/plain": [
       "Text(0.5, 1.0, 'image 1: $x_1$')"
      ]
     },
     "execution_count": 7,
     "metadata": {},
     "output_type": "execute_result"
    },
    {
     "data": {
      "image/png": "[encoded data removed]",
      "text/plain": [
       "<Figure size 432x288 with 1 Axes>"
      ]
     },
     "metadata": {},
     "output_type": "display_data"
    }
   ],
   "source": [
    "from sklearn.datasets import fetch_olivetti_faces\n",
    "\n",
    "faces = fetch_olivetti_faces()\n",
    "print(faces.images[6],'\\n')\n",
    "f,ax=plt.subplots(1,1)\n",
    "\n",
    "ax.imshow(faces.images[6],cmap=plt.cm.bone)\n",
    "ax.grid(False)\n",
    "ax.set_xticks([])\n",
    "ax.set_yticks([])\n",
    "ax.set_title(\"image 1: $x_1$\")"
   ]
  },
  {
   "cell_type": "code",
   "execution_count": 10,
   "id": "d012258c",
   "metadata": {},
   "outputs": [
    {
     "data": {
      "image/png": "[encoded data removed]",
      "text/plain": [
       "<Figure size 432x288 with 3 Axes>"
      ]
     },
     "metadata": {},
     "output_type": "display_data"
    }
   ],
   "source": [
    "from sklearn.datasets import fetch_olivetti_faces\n",
    "\n",
    "faces = fetch_olivetti_faces()\n",
    "\n",
    "f,ax=plt.subplots(1,3)\n",
    "\n",
    "ax[0].imshow(faces.images[6],cmap=plt.cm.bone)\n",
    "ax[0].grid(False)\n",
    "ax[0].set_xticks([])\n",
    "ax[0].set_yticks([])\n",
    "ax[0].set_title(\"image 1: $x_1$\")\n",
    "\n",
    "ax[1].imshow(faces.images[10],cmap=plt.cm.bone)\n",
    "ax[1].grid(False)\n",
    "ax[1].set_xticks([])\n",
    "ax[1].set_yticks([])\n",
    "ax[1].set_title(\"image 2: $x_2$\")\n",
    "\n",
    "new_face = 0.7 * faces.images[6] + 0.3*faces.images[10]\n",
    "ax[2].imshow(new_face,cmap=plt.cm.bone)\n",
    "ax[2].grid(False)\n",
    "ax[2].set_xticks([])\n",
    "ax[2].set_yticks([])\n",
    "ax[2].set_title(\"image 3: $0.7x_1 + 0.3x_2$\")\n",
    "\n",
    "plt.show()"
   ]
  },
  {
   "cell_type": "code",
   "execution_count": 11,
   "id": "bc67db99",
   "metadata": {},
   "outputs": [
    {
     "name": "stdout",
     "output_type": "stream",
     "text": [
      "[[22 28]\n",
      " [49 64]] \n",
      "\n",
      "[[22 28]\n",
      " [49 64]]\n"
     ]
    }
   ],
   "source": [
    "A = np.array([[1,2,3],[4,5,6]])\n",
    "B = np.array([[1,2],[3,4],[5,6]])\n",
    "C1 = A @ B\n",
    "C2 = np.dot(A,B)\n",
    "print(C1,'\\n')\n",
    "print(C2)"
   ]
  },
  {
   "cell_type": "code",
   "execution_count": 12,
   "id": "8342a26c",
   "metadata": {},
   "outputs": [],
   "source": [
    "A = np.array([[1,2],[3,4]])\n",
    "B = np.array([[5,6],[7,8]])\n",
    "C = np.array([[9,8],[7,6]])\n"
   ]
  },
  {
   "cell_type": "code",
   "execution_count": 14,
   "id": "83b2823b",
   "metadata": {},
   "outputs": [
    {
     "name": "stdout",
     "output_type": "stream",
     "text": [
      "[[19 22]\n",
      " [43 50]] \n",
      "\n",
      "[[23 34]\n",
      " [31 46]]\n"
     ]
    }
   ],
   "source": [
    "# 교환 법칙이 성립하지 않음\n",
    "C1 = A@B\n",
    "C2 = B@A\n",
    "print(C1,'\\n')\n",
    "print(C2)"
   ]
  },
  {
   "cell_type": "code",
   "execution_count": 15,
   "id": "b8ac41e2",
   "metadata": {},
   "outputs": [
    {
     "name": "stdout",
     "output_type": "stream",
     "text": [
      "[[42 42]\n",
      " [98 98]] \n",
      "\n",
      "[[42 42]\n",
      " [98 98]]\n"
     ]
    }
   ],
   "source": [
    "# 분배 법칙은 성립함\n",
    "D1 = A@(B+C)\n",
    "D2 = A@B+A@C\n",
    "print(D1,'\\n')\n",
    "print(D2)"
   ]
  },
  {
   "cell_type": "code",
   "execution_count": 17,
   "id": "4bab6e55",
   "metadata": {},
   "outputs": [
    {
     "name": "stdout",
     "output_type": "stream",
     "text": [
      "[[ 6 10]\n",
      " [ 8 12]] \n",
      "\n",
      "[[ 6 10]\n",
      " [ 8 12]]\n"
     ]
    }
   ],
   "source": [
    "# 전치 연산도 덧셈, 뺄셈에 대한 분배 법칙이 성립\n",
    "\n",
    "T1 = (A+B).T\n",
    "T2 = A.T+B.T\n",
    "print(T1,'\\n')\n",
    "print(T2)"
   ]
  },
  {
   "cell_type": "code",
   "execution_count": 19,
   "id": "1ffb66ed",
   "metadata": {},
   "outputs": [
    {
     "name": "stdout",
     "output_type": "stream",
     "text": [
      "[[19 43]\n",
      " [22 50]] \n",
      "\n",
      "[[19 43]\n",
      " [22 50]]\n"
     ]
    }
   ],
   "source": [
    "# 전치 연산과 곱셈의 경우에는 분배 법칙이 성립하지만 전치 연산이 분배되면서 곱셈의 순서가 바뀜\n",
    "\n",
    "T3 = (A@B).T\n",
    "T4 = B.T@A.T\n",
    "print(T3,'\\n')\n",
    "print(T4)"
   ]
  },
  {
   "cell_type": "code",
   "execution_count": 20,
   "id": "7a363488",
   "metadata": {},
   "outputs": [
    {
     "data": {
      "text/plain": [
       "array([[1., 0.],\n",
       "       [0., 1.]])"
      ]
     },
     "execution_count": 20,
     "metadata": {},
     "output_type": "execute_result"
    }
   ],
   "source": [
    "# 항등행력의 곱셈\n",
    "A = np.array([[1,2],[3,4]])\n",
    "I = np.eye(2)\n",
    "I"
   ]
  },
  {
   "cell_type": "code",
   "execution_count": 21,
   "id": "e6a69039",
   "metadata": {},
   "outputs": [
    {
     "data": {
      "text/plain": [
       "array([[1., 2.],\n",
       "       [3., 4.]])"
      ]
     },
     "execution_count": 21,
     "metadata": {},
     "output_type": "execute_result"
    }
   ],
   "source": [
    "A@I"
   ]
  },
  {
   "cell_type": "code",
   "execution_count": 22,
   "id": "7880a02b",
   "metadata": {},
   "outputs": [
    {
     "data": {
      "text/plain": [
       "array([[1., 2.],\n",
       "       [3., 4.]])"
      ]
     },
     "execution_count": 22,
     "metadata": {},
     "output_type": "execute_result"
    }
   ],
   "source": [
    "I@A"
   ]
  },
  {
   "cell_type": "code",
   "execution_count": 23,
   "id": "8e636e3a",
   "metadata": {},
   "outputs": [
    {
     "data": {
      "text/plain": [
       "3.0"
      ]
     },
     "execution_count": 23,
     "metadata": {},
     "output_type": "execute_result"
    }
   ],
   "source": [
    "# 대각합 계산\n",
    "np.trace(np.eye(3))"
   ]
  },
  {
   "cell_type": "markdown",
   "id": "a429e3c3",
   "metadata": {},
   "source": [
    "#### 행렬식\n",
    "https://ratsgo.github.io/linear%20algebra/2017/05/21/determinants/\n",
    "\n",
    "https://www.youtube.com/watch?v=fuVMiyahzH4\n"
   ]
  },
  {
   "cell_type": "code",
   "execution_count": null,
   "id": "9d49587a",
   "metadata": {},
   "outputs": [],
   "source": [
    "import numpy.linalg as LA\n",
    "\n",
    "d = np.array([[1,0],\n",
    "              [0,1]])\n",
    "\n",
    "print(LA.det(d))\n",
    "\n",
    "# 에러 : 2차원은 정방행렬이어야 함\n",
    "e = np.array([[1,0,0],\n",
    "              [0,1,0]])\n",
    "\n",
    "print(LA.det(e))"
   ]
  },
  {
   "cell_type": "code",
   "execution_count": 25,
   "id": "a10070a0",
   "metadata": {},
   "outputs": [
    {
     "data": {
      "text/plain": [
       "1.0"
      ]
     },
     "execution_count": 25,
     "metadata": {},
     "output_type": "execute_result"
    }
   ],
   "source": [
    "e = np.array([[1,0,0],\n",
    "              [0,1,0],\n",
    "              [0,0,1]])\n",
    "LA.det(e)"
   ]
  },
  {
   "cell_type": "code",
   "execution_count": 26,
   "id": "a994817b",
   "metadata": {},
   "outputs": [
    {
     "name": "stdout",
     "output_type": "stream",
     "text": [
      "[[2 1 0 0 2]\n",
      " [1 2 4 1 0]\n",
      " [4 2 4 2 4]\n",
      " [3 0 1 0 2]\n",
      " [0 1 2 2 0]]\n"
     ]
    },
    {
     "data": {
      "text/plain": [
       "28.00000000000001"
      ]
     },
     "execution_count": 26,
     "metadata": {},
     "output_type": "execute_result"
    }
   ],
   "source": [
    "# Q. 5행 5열 행렬을 생성하고 행렬식으로 부피를 구하세요.\n",
    "\n",
    "import numpy as np\n",
    "import numpy.linalg as LA\n",
    "\n",
    "np.random.seed(4)\n",
    "a = np.array(np.random.randint(0, 5, size=(5, 5)))\n",
    "print(a)\n",
    "LA.det(a)\n"
   ]
  },
  {
   "cell_type": "markdown",
   "id": "76b22e96",
   "metadata": {},
   "source": [
    "선형 연립방정식\n",
    "- 선형예측모형은 입력 데이터 벡터와 가중치 벡터의 내적으로 계산된 예측값이 실제 출력 데이터와 유사한 값을 출력하도록 하는 모형\n",
    "- 연립방정식과 역행렬을 이용하여 선형 예측 모형의 가중치 벡터를 구할 수 있다.\n",
    "역행렬\n",
    "- 정방행렬에 대한 역행렬은 원래의 행렬과 다음 관계를 만족하는 정방행렬을 의미 $A^{-1}A = AA^{-1} = I$, I는 항등행렬\n"
   ]
  },
  {
   "cell_type": "code",
   "execution_count": 28,
   "id": "b8941155",
   "metadata": {},
   "outputs": [
    {
     "data": {
      "text/plain": [
       "array([[1, 2, 1],\n",
       "       [2, 2, 3],\n",
       "       [1, 3, 1]])"
      ]
     },
     "execution_count": 28,
     "metadata": {},
     "output_type": "execute_result"
    }
   ],
   "source": [
    "np.random.seed(0)\n",
    "mt1 = np.random.randint(1,4,size=(3,3))\n",
    "mt1"
   ]
  },
  {
   "cell_type": "code",
   "execution_count": 29,
   "id": "127ac381",
   "metadata": {},
   "outputs": [
    {
     "data": {
      "text/plain": [
       "array([[ 7., -1., -4.],\n",
       "       [-1.,  0.,  1.],\n",
       "       [-4.,  1.,  2.]])"
      ]
     },
     "execution_count": 29,
     "metadata": {},
     "output_type": "execute_result"
    }
   ],
   "source": [
    "mt2 = np.linalg.inv(mt1)\n",
    "mt2"
   ]
  },
  {
   "cell_type": "code",
   "execution_count": 30,
   "id": "598f85a8",
   "metadata": {},
   "outputs": [
    {
     "data": {
      "text/plain": [
       "array([[1., 0., 0.],\n",
       "       [0., 1., 0.],\n",
       "       [0., 0., 1.]])"
      ]
     },
     "execution_count": 30,
     "metadata": {},
     "output_type": "execute_result"
    }
   ],
   "source": [
    "np.dot(mt1,mt2)"
   ]
  },
  {
   "cell_type": "code",
   "execution_count": 31,
   "id": "b4941da4",
   "metadata": {},
   "outputs": [
    {
     "name": "stdout",
     "output_type": "stream",
     "text": [
      "[[1 3]\n",
      " [5 7]]\n"
     ]
    }
   ],
   "source": [
    "# Q. 아래 행렬의 역행렬을 구하고 검증하세요\n",
    "arr = np.matrix([[1,3],[5,7]])\n",
    "print(arr)"
   ]
  },
  {
   "cell_type": "code",
   "execution_count": 32,
   "id": "0c6151af",
   "metadata": {},
   "outputs": [
    {
     "name": "stdout",
     "output_type": "stream",
     "text": [
      "[[-0.875  0.375]\n",
      " [ 0.625 -0.125]] \n",
      "\n"
     ]
    },
    {
     "data": {
      "text/plain": [
       "matrix([[ 1.00000000e+00, -5.55111512e-17],\n",
       "        [ 0.00000000e+00,  1.00000000e+00]])"
      ]
     },
     "execution_count": 32,
     "metadata": {},
     "output_type": "execute_result"
    }
   ],
   "source": [
    "arr_inv = np.linalg.inv(arr)\n",
    "print(arr_inv,'\\n')\n",
    "np.dot(arr,arr_inv)"
   ]
  },
  {
   "cell_type": "markdown",
   "id": "e2754ccd",
   "metadata": {},
   "source": [
    "## 함수"
   ]
  },
  {
   "cell_type": "code",
   "execution_count": 33,
   "id": "43b7f84b",
   "metadata": {},
   "outputs": [
    {
     "data": {
      "image/png": "[encoded data removed]",
      "text/plain": [
       "<Figure size 576x432 with 1 Axes>"
      ]
     },
     "metadata": {
      "needs_background": "light"
     },
     "output_type": "display_data"
    }
   ],
   "source": [
    "# Q. 평균이 10, 표준편차가 3인 정규분포의 확률밀도함수를 그래프로 표현\n",
    "\n",
    "import matplotlib.pyplot as plt \n",
    "import numpy as np \n",
    "from scipy.stats import norm \n",
    "\n",
    "x = np.arange(-10, 30, 0.001) \n",
    "plt.figure(figsize=(8,6))\n",
    "plt.title('Standard Normal Distribution') \n",
    "plt.xlabel('x') \n",
    "plt.ylabel('f(x)')\n",
    "plt.grid()\n",
    "plt.plot(x, norm.pdf(x, loc=10, scale=3))\n",
    "plt.show()\n"
   ]
  }
 ],
 "metadata": {
  "kernelspec": {
   "display_name": "Python 3 (ipykernel)",
   "language": "python",
   "name": "python3"
  },
  "language_info": {
   "codemirror_mode": {
    "name": "ipython",
    "version": 3
   },
   "file_extension": ".py",
   "mimetype": "text/x-python",
   "name": "python",
   "nbconvert_exporter": "python",
   "pygments_lexer": "ipython3",
   "version": "3.8.13"
  }
 },
 "nbformat": 4,
 "nbformat_minor": 5
}
